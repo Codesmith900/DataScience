{
  "nbformat": 4,
  "nbformat_minor": 0,
  "metadata": {
    "colab": {
      "provenance": [],
      "authorship_tag": "ABX9TyMMsbwg68zY1jE0oZ9QrRS5",
      "include_colab_link": true
    },
    "kernelspec": {
      "name": "python3",
      "display_name": "Python 3"
    },
    "language_info": {
      "name": "python"
    }
  },
  "cells": [
    {
      "cell_type": "markdown",
      "metadata": {
        "id": "view-in-github",
        "colab_type": "text"
      },
      "source": [
        "<a href=\"https://colab.research.google.com/github/Codesmith900/DataScience/blob/main/scrapee.ipynb\" target=\"_parent\"><img src=\"https://colab.research.google.com/assets/colab-badge.svg\" alt=\"Open In Colab\"/></a>"
      ]
    },
    {
      "cell_type": "code",
      "source": [
        "import warnings \n",
        "warnings.filterwarnings(\"ignore\")\n",
        "\n",
        "!pip install lxml --quiet\n",
        "!pip install requests --quiet\n",
        "\n"
      ],
      "metadata": {
        "id": "Wzm40aStmZR0"
      },
      "execution_count": 61,
      "outputs": []
    },
    {
      "cell_type": "code",
      "source": [
        "\n",
        "\n",
        "#get() send a GET request to the specified url\n",
        "#bs4 lib for pulling data out of HTML/XML files\n",
        "#pandas for data manipulation\n",
        "\n",
        "from requests import get \n",
        "from bs4 import BeautifulSoup \n",
        "import pandas as pd \n",
        "\n"
      ],
      "metadata": {
        "id": "0OACouZFmeEu"
      },
      "execution_count": 62,
      "outputs": []
    },
    {
      "cell_type": "code",
      "source": [
        "#first target website is wikipedia\n",
        "#list of criminalminds' episodes on wikipedia. \n",
        "#the data here is in a table hence read_html() will be a faster and simpler option\n",
        "wiki_url = 'https://en.wikipedia.org/wiki/List_of_Criminal_Minds_episodes' "
      ],
      "metadata": {
        "id": "IoZAPrujmgy4"
      },
      "execution_count": 63,
      "outputs": []
    },
    {
      "cell_type": "code",
      "source": [
        "#using read_html() method to get the tabular data for the html doc\n",
        "wiki_html = pd.read_html(wiki_url)\n",
        "\n",
        "#view the first two rows of the first table for the html document\n",
        "wiki_html[0].head(1) "
      ],
      "metadata": {
        "id": "zXkYyufsmkIC"
      },
      "execution_count": null,
      "outputs": []
    },
    {
      "cell_type": "code",
      "source": [
        "#how many tables are in the doc\n",
        "len(wiki_html) "
      ],
      "metadata": {
        "colab": {
          "base_uri": "https://localhost:8080/"
        },
        "id": "g1Viboj7mmqh",
        "outputId": "18c3b165-af2a-402b-f2ff-62233a0cfa86"
      },
      "execution_count": 65,
      "outputs": [
        {
          "output_type": "execute_result",
          "data": {
            "text/plain": [
              "18"
            ]
          },
          "metadata": {},
          "execution_count": 65
        }
      ]
    },
    {
      "cell_type": "code",
      "source": [
        "#based on the above output season 15 of criminalminds is index 15\n",
        "wiki_html[15] "
      ],
      "metadata": {
        "colab": {
          "base_uri": "https://localhost:8080/",
          "height": 363
        },
        "id": "HgV-eEAomp0q",
        "outputId": "3fdd0162-a523-462a-fb51-398e38a1824b"
      },
      "execution_count": 88,
      "outputs": [
        {
          "output_type": "execute_result",
          "data": {
            "text/plain": [
              "   No.overall  No. inseason                Title           Directed by  \\\n",
              "0         315             1     \"Under the Skin\"      Nelson McCormick   \n",
              "1         316             2         \"Awakenings\"           Alec Smight   \n",
              "2         317             3  \"Spectator Slowing\"        Kevin Berlandi   \n",
              "3         318             4           \"Saturday\"  Edward Allen Bernero   \n",
              "4         319             5              \"Ghost\"       Diana Valentine   \n",
              "5         320             6         \"Date Night\"         Marcus Stokes   \n",
              "6         321             7              \"Rusty\"        Rachel Feldman   \n",
              "7         322             8        \"Family Tree\"           Alec Smight   \n",
              "8         323             9           \"Face Off\"           Sharat Raju   \n",
              "9         324            10     \"And in the End\"         Glenn Kershaw   \n",
              "\n",
              "                          Written by  Original air date  Prod.code  \\\n",
              "0                Christopher Barbour    January 8, 2020       1416   \n",
              "1                 Stephanie Sengupta    January 8, 2020       1417   \n",
              "2                    Bruce Zimmerman   January 15, 2020       1418   \n",
              "3  Stephanie Birkitt & Breen Frazier   January 22, 2020       1419   \n",
              "4        Bobby Chacon & Jim Clemente   January 29, 2020       1421   \n",
              "5                      Breen Frazier   February 5, 2020       1420   \n",
              "6      Erica Meredith & Erik Stiller   February 5, 2020       1422   \n",
              "7                    Bruce Zimmerman  February 12, 2020       1423   \n",
              "8                Christopher Barbour  February 19, 2020       1424   \n",
              "9   Erica Messer & Kirsten Vangsness  February 19, 2020       1425   \n",
              "\n",
              "  U.S. viewers(millions)  \n",
              "0              4.82[311]  \n",
              "1              4.49[311]  \n",
              "2              4.58[312]  \n",
              "3              4.49[313]  \n",
              "4              5.88[314]  \n",
              "5              4.35[315]  \n",
              "6              3.74[315]  \n",
              "7              3.94[316]  \n",
              "8              5.46[317]  \n",
              "9              5.36[317]  "
            ],
            "text/html": [
              "\n",
              "  <div id=\"df-baea7a49-c14f-4175-a770-d12484840433\">\n",
              "    <div class=\"colab-df-container\">\n",
              "      <div>\n",
              "<style scoped>\n",
              "    .dataframe tbody tr th:only-of-type {\n",
              "        vertical-align: middle;\n",
              "    }\n",
              "\n",
              "    .dataframe tbody tr th {\n",
              "        vertical-align: top;\n",
              "    }\n",
              "\n",
              "    .dataframe thead th {\n",
              "        text-align: right;\n",
              "    }\n",
              "</style>\n",
              "<table border=\"1\" class=\"dataframe\">\n",
              "  <thead>\n",
              "    <tr style=\"text-align: right;\">\n",
              "      <th></th>\n",
              "      <th>No.overall</th>\n",
              "      <th>No. inseason</th>\n",
              "      <th>Title</th>\n",
              "      <th>Directed by</th>\n",
              "      <th>Written by</th>\n",
              "      <th>Original air date</th>\n",
              "      <th>Prod.code</th>\n",
              "      <th>U.S. viewers(millions)</th>\n",
              "    </tr>\n",
              "  </thead>\n",
              "  <tbody>\n",
              "    <tr>\n",
              "      <th>0</th>\n",
              "      <td>315</td>\n",
              "      <td>1</td>\n",
              "      <td>\"Under the Skin\"</td>\n",
              "      <td>Nelson McCormick</td>\n",
              "      <td>Christopher Barbour</td>\n",
              "      <td>January 8, 2020</td>\n",
              "      <td>1416</td>\n",
              "      <td>4.82[311]</td>\n",
              "    </tr>\n",
              "    <tr>\n",
              "      <th>1</th>\n",
              "      <td>316</td>\n",
              "      <td>2</td>\n",
              "      <td>\"Awakenings\"</td>\n",
              "      <td>Alec Smight</td>\n",
              "      <td>Stephanie Sengupta</td>\n",
              "      <td>January 8, 2020</td>\n",
              "      <td>1417</td>\n",
              "      <td>4.49[311]</td>\n",
              "    </tr>\n",
              "    <tr>\n",
              "      <th>2</th>\n",
              "      <td>317</td>\n",
              "      <td>3</td>\n",
              "      <td>\"Spectator Slowing\"</td>\n",
              "      <td>Kevin Berlandi</td>\n",
              "      <td>Bruce Zimmerman</td>\n",
              "      <td>January 15, 2020</td>\n",
              "      <td>1418</td>\n",
              "      <td>4.58[312]</td>\n",
              "    </tr>\n",
              "    <tr>\n",
              "      <th>3</th>\n",
              "      <td>318</td>\n",
              "      <td>4</td>\n",
              "      <td>\"Saturday\"</td>\n",
              "      <td>Edward Allen Bernero</td>\n",
              "      <td>Stephanie Birkitt &amp; Breen Frazier</td>\n",
              "      <td>January 22, 2020</td>\n",
              "      <td>1419</td>\n",
              "      <td>4.49[313]</td>\n",
              "    </tr>\n",
              "    <tr>\n",
              "      <th>4</th>\n",
              "      <td>319</td>\n",
              "      <td>5</td>\n",
              "      <td>\"Ghost\"</td>\n",
              "      <td>Diana Valentine</td>\n",
              "      <td>Bobby Chacon &amp; Jim Clemente</td>\n",
              "      <td>January 29, 2020</td>\n",
              "      <td>1421</td>\n",
              "      <td>5.88[314]</td>\n",
              "    </tr>\n",
              "    <tr>\n",
              "      <th>5</th>\n",
              "      <td>320</td>\n",
              "      <td>6</td>\n",
              "      <td>\"Date Night\"</td>\n",
              "      <td>Marcus Stokes</td>\n",
              "      <td>Breen Frazier</td>\n",
              "      <td>February 5, 2020</td>\n",
              "      <td>1420</td>\n",
              "      <td>4.35[315]</td>\n",
              "    </tr>\n",
              "    <tr>\n",
              "      <th>6</th>\n",
              "      <td>321</td>\n",
              "      <td>7</td>\n",
              "      <td>\"Rusty\"</td>\n",
              "      <td>Rachel Feldman</td>\n",
              "      <td>Erica Meredith &amp; Erik Stiller</td>\n",
              "      <td>February 5, 2020</td>\n",
              "      <td>1422</td>\n",
              "      <td>3.74[315]</td>\n",
              "    </tr>\n",
              "    <tr>\n",
              "      <th>7</th>\n",
              "      <td>322</td>\n",
              "      <td>8</td>\n",
              "      <td>\"Family Tree\"</td>\n",
              "      <td>Alec Smight</td>\n",
              "      <td>Bruce Zimmerman</td>\n",
              "      <td>February 12, 2020</td>\n",
              "      <td>1423</td>\n",
              "      <td>3.94[316]</td>\n",
              "    </tr>\n",
              "    <tr>\n",
              "      <th>8</th>\n",
              "      <td>323</td>\n",
              "      <td>9</td>\n",
              "      <td>\"Face Off\"</td>\n",
              "      <td>Sharat Raju</td>\n",
              "      <td>Christopher Barbour</td>\n",
              "      <td>February 19, 2020</td>\n",
              "      <td>1424</td>\n",
              "      <td>5.46[317]</td>\n",
              "    </tr>\n",
              "    <tr>\n",
              "      <th>9</th>\n",
              "      <td>324</td>\n",
              "      <td>10</td>\n",
              "      <td>\"And in the End\"</td>\n",
              "      <td>Glenn Kershaw</td>\n",
              "      <td>Erica Messer &amp; Kirsten Vangsness</td>\n",
              "      <td>February 19, 2020</td>\n",
              "      <td>1425</td>\n",
              "      <td>5.36[317]</td>\n",
              "    </tr>\n",
              "  </tbody>\n",
              "</table>\n",
              "</div>\n",
              "      <button class=\"colab-df-convert\" onclick=\"convertToInteractive('df-baea7a49-c14f-4175-a770-d12484840433')\"\n",
              "              title=\"Convert this dataframe to an interactive table.\"\n",
              "              style=\"display:none;\">\n",
              "        \n",
              "  <svg xmlns=\"http://www.w3.org/2000/svg\" height=\"24px\"viewBox=\"0 0 24 24\"\n",
              "       width=\"24px\">\n",
              "    <path d=\"M0 0h24v24H0V0z\" fill=\"none\"/>\n",
              "    <path d=\"M18.56 5.44l.94 2.06.94-2.06 2.06-.94-2.06-.94-.94-2.06-.94 2.06-2.06.94zm-11 1L8.5 8.5l.94-2.06 2.06-.94-2.06-.94L8.5 2.5l-.94 2.06-2.06.94zm10 10l.94 2.06.94-2.06 2.06-.94-2.06-.94-.94-2.06-.94 2.06-2.06.94z\"/><path d=\"M17.41 7.96l-1.37-1.37c-.4-.4-.92-.59-1.43-.59-.52 0-1.04.2-1.43.59L10.3 9.45l-7.72 7.72c-.78.78-.78 2.05 0 2.83L4 21.41c.39.39.9.59 1.41.59.51 0 1.02-.2 1.41-.59l7.78-7.78 2.81-2.81c.8-.78.8-2.07 0-2.86zM5.41 20L4 18.59l7.72-7.72 1.47 1.35L5.41 20z\"/>\n",
              "  </svg>\n",
              "      </button>\n",
              "      \n",
              "  <style>\n",
              "    .colab-df-container {\n",
              "      display:flex;\n",
              "      flex-wrap:wrap;\n",
              "      gap: 12px;\n",
              "    }\n",
              "\n",
              "    .colab-df-convert {\n",
              "      background-color: #E8F0FE;\n",
              "      border: none;\n",
              "      border-radius: 50%;\n",
              "      cursor: pointer;\n",
              "      display: none;\n",
              "      fill: #1967D2;\n",
              "      height: 32px;\n",
              "      padding: 0 0 0 0;\n",
              "      width: 32px;\n",
              "    }\n",
              "\n",
              "    .colab-df-convert:hover {\n",
              "      background-color: #E2EBFA;\n",
              "      box-shadow: 0px 1px 2px rgba(60, 64, 67, 0.3), 0px 1px 3px 1px rgba(60, 64, 67, 0.15);\n",
              "      fill: #174EA6;\n",
              "    }\n",
              "\n",
              "    [theme=dark] .colab-df-convert {\n",
              "      background-color: #3B4455;\n",
              "      fill: #D2E3FC;\n",
              "    }\n",
              "\n",
              "    [theme=dark] .colab-df-convert:hover {\n",
              "      background-color: #434B5C;\n",
              "      box-shadow: 0px 1px 3px 1px rgba(0, 0, 0, 0.15);\n",
              "      filter: drop-shadow(0px 1px 2px rgba(0, 0, 0, 0.3));\n",
              "      fill: #FFFFFF;\n",
              "    }\n",
              "  </style>\n",
              "\n",
              "      <script>\n",
              "        const buttonEl =\n",
              "          document.querySelector('#df-baea7a49-c14f-4175-a770-d12484840433 button.colab-df-convert');\n",
              "        buttonEl.style.display =\n",
              "          google.colab.kernel.accessAllowed ? 'block' : 'none';\n",
              "\n",
              "        async function convertToInteractive(key) {\n",
              "          const element = document.querySelector('#df-baea7a49-c14f-4175-a770-d12484840433');\n",
              "          const dataTable =\n",
              "            await google.colab.kernel.invokeFunction('convertToInteractive',\n",
              "                                                     [key], {});\n",
              "          if (!dataTable) return;\n",
              "\n",
              "          const docLinkHtml = 'Like what you see? Visit the ' +\n",
              "            '<a target=\"_blank\" href=https://colab.research.google.com/notebooks/data_table.ipynb>data table notebook</a>'\n",
              "            + ' to learn more about interactive tables.';\n",
              "          element.innerHTML = '';\n",
              "          dataTable['output_type'] = 'display_data';\n",
              "          await google.colab.output.renderOutput(dataTable, element);\n",
              "          const docLink = document.createElement('div');\n",
              "          docLink.innerHTML = docLinkHtml;\n",
              "          element.appendChild(docLink);\n",
              "        }\n",
              "      </script>\n",
              "    </div>\n",
              "  </div>\n",
              "  "
            ]
          },
          "metadata": {},
          "execution_count": 88
        }
      ]
    },
    {
      "cell_type": "code",
      "source": [
        "#rename the column and make change permanent in the dataframe\n",
        "wiki_html[15].rename(columns={\n",
        "    'U.S. viewers (millions)':'US viewers (millions)'}, inplace=True)"
      ],
      "metadata": {
        "id": "RUU6SOdLmsIb"
      },
      "execution_count": 67,
      "outputs": []
    },
    {
      "cell_type": "code",
      "source": [
        "#iterate through the tables we need and append them\n",
        "#empty list for our resulting data\n",
        "cm_wiki_data = []\n",
        "\n",
        "#range from season 1 to 15 (indices 1, 15)\n",
        "for i in range(1,16):\n",
        "    cm_wiki_data.append(wiki_html[i])"
      ],
      "metadata": {
        "id": "UZgdcNoxm2Cl"
      },
      "execution_count": 68,
      "outputs": []
    },
    {
      "cell_type": "code",
      "source": [
        "cm_wiki_df = pd.concat(cm_wiki_data)\n",
        "cm_wiki_df"
      ],
      "metadata": {
        "id": "aEOItSFpm304"
      },
      "execution_count": null,
      "outputs": []
    },
    {
      "cell_type": "code",
      "source": [
        "#data cleaning\n",
        "\n",
        "cm_wiki_df.info() "
      ],
      "metadata": {
        "id": "TiqgpJqxm6Pf"
      },
      "execution_count": null,
      "outputs": []
    },
    {
      "cell_type": "code",
      "source": [
        "\n",
        "\n",
        "cm_wiki_df.dtypes\n",
        "\n"
      ],
      "metadata": {
        "id": "XszMWPc6nGRH"
      },
      "execution_count": null,
      "outputs": []
    },
    {
      "cell_type": "code",
      "source": [
        "\n",
        "\n",
        "cm_wiki_df.columns\n",
        "\n"
      ],
      "metadata": {
        "id": "QVCLIy-tnJOP"
      },
      "execution_count": null,
      "outputs": []
    },
    {
      "cell_type": "code",
      "source": [
        "cm_wiki_df.rename(columns={\n",
        "    \"Title\": \"episode_title\",\n",
        "    \"No. overall\":\"episode_number_overall\",\n",
        "    \"No. in season\":\"episode_number\",\n",
        "    \"Directed by\":\"episode_director\",\n",
        "    \"Written by\":\"episode_writer\",\n",
        "    \"Original air date\":\"episode_airdate\",\n",
        "    \"US viewers (millions)\":\"us_viewers_in_millions\"\n",
        "}, inplace=True)"
      ],
      "metadata": {
        "id": "aRdlENW7nK9R"
      },
      "execution_count": 74,
      "outputs": []
    },
    {
      "cell_type": "code",
      "source": [
        "\n",
        "\n",
        "#convert 'episode_airdate' into datetime\n",
        "cm_wiki_df['episode_airdate'] = cm_wiki_df['episode_airdate'].str.replace(\",\",\"\")\n",
        "\n",
        "cm_wiki_df['episode_airdate'] = pd.to_datetime(cm_wiki_df['episode_airdate'])\n",
        "\n"
      ],
      "metadata": {
        "id": "AOjkS4WwnNMU"
      },
      "execution_count": 75,
      "outputs": []
    },
    {
      "cell_type": "code",
      "source": [
        "#Save to a csv\n",
        "\n",
        "\n",
        "\n",
        "from pathlib import Path\n",
        "\n",
        "#use pathlib to create a new folder\n",
        "#Path.cwd() defines our currect working directory\n",
        "output_path = Path.cwd() / 'scraping_output'\n",
        "output_path.mkdir(exist_ok=True)\n",
        "\n",
        "#export dataframe to csv into the 'scraping_output' folder\n",
        "#exclude index from the columns\n",
        "ara = cm_wiki_df.to_csv(\"scraping_output/criminalminds-tv-scraped-data.csv\", index=False)\n",
        "\n"
      ],
      "metadata": {
        "id": "9UlVVN6NnPbr"
      },
      "execution_count": 78,
      "outputs": []
    },
    {
      "cell_type": "code",
      "source": [
        "import altair as alt\n",
        "import pandas as pd\n",
        "\n",
        "# Read in the CSV file we just saved\n",
        "cm_wiki_df = pd.read_csv(\"scraping_output/criminalminds-tv-scraped-data.csv\")\n",
        "\n",
        "# Create a simple bar chart showing the total number of episodes per season\n",
        "episodes_per_season = alt.Chart(cm_wiki_df).mark_bar().encode(\n",
        "    x=alt.X('Season:N', title='Season'),\n",
        "    y=alt.Y('count():Q', title='Number of Episodes')\n",
        ").properties(\n",
        "    title='Total Number of Episodes per Season'\n",
        ")\n",
        "# Display the chart\n",
        "episodes_per_season"
      ],
      "metadata": {
        "colab": {
          "base_uri": "https://localhost:8080/",
          "height": 423
        },
        "id": "3gRc1XnRsWLp",
        "outputId": "3beae254-d17d-49f9-8880-a98a93de3f58"
      },
      "execution_count": 102,
      "outputs": [
        {
          "output_type": "execute_result",
          "data": {
            "text/html": [
              "\n",
              "<div id=\"altair-viz-4b58061fd17d45debb446600b95373e1\"></div>\n",
              "<script type=\"text/javascript\">\n",
              "  var VEGA_DEBUG = (typeof VEGA_DEBUG == \"undefined\") ? {} : VEGA_DEBUG;\n",
              "  (function(spec, embedOpt){\n",
              "    let outputDiv = document.currentScript.previousElementSibling;\n",
              "    if (outputDiv.id !== \"altair-viz-4b58061fd17d45debb446600b95373e1\") {\n",
              "      outputDiv = document.getElementById(\"altair-viz-4b58061fd17d45debb446600b95373e1\");\n",
              "    }\n",
              "    const paths = {\n",
              "      \"vega\": \"https://cdn.jsdelivr.net/npm//vega@5?noext\",\n",
              "      \"vega-lib\": \"https://cdn.jsdelivr.net/npm//vega-lib?noext\",\n",
              "      \"vega-lite\": \"https://cdn.jsdelivr.net/npm//vega-lite@4.17.0?noext\",\n",
              "      \"vega-embed\": \"https://cdn.jsdelivr.net/npm//vega-embed@6?noext\",\n",
              "    };\n",
              "\n",
              "    function maybeLoadScript(lib, version) {\n",
              "      var key = `${lib.replace(\"-\", \"\")}_version`;\n",
              "      return (VEGA_DEBUG[key] == version) ?\n",
              "        Promise.resolve(paths[lib]) :\n",
              "        new Promise(function(resolve, reject) {\n",
              "          var s = document.createElement('script');\n",
              "          document.getElementsByTagName(\"head\")[0].appendChild(s);\n",
              "          s.async = true;\n",
              "          s.onload = () => {\n",
              "            VEGA_DEBUG[key] = version;\n",
              "            return resolve(paths[lib]);\n",
              "          };\n",
              "          s.onerror = () => reject(`Error loading script: ${paths[lib]}`);\n",
              "          s.src = paths[lib];\n",
              "        });\n",
              "    }\n",
              "\n",
              "    function showError(err) {\n",
              "      outputDiv.innerHTML = `<div class=\"error\" style=\"color:red;\">${err}</div>`;\n",
              "      throw err;\n",
              "    }\n",
              "\n",
              "    function displayChart(vegaEmbed) {\n",
              "      vegaEmbed(outputDiv, spec, embedOpt)\n",
              "        .catch(err => showError(`Javascript Error: ${err.message}<br>This usually means there's a typo in your chart specification. See the javascript console for the full traceback.`));\n",
              "    }\n",
              "\n",
              "    if(typeof define === \"function\" && define.amd) {\n",
              "      requirejs.config({paths});\n",
              "      require([\"vega-embed\"], displayChart, err => showError(`Error loading script: ${err.message}`));\n",
              "    } else {\n",
              "      maybeLoadScript(\"vega\", \"5\")\n",
              "        .then(() => maybeLoadScript(\"vega-lite\", \"4.17.0\"))\n",
              "        .then(() => maybeLoadScript(\"vega-embed\", \"6\"))\n",
              "        .catch(showError)\n",
              "        .then(() => displayChart(vegaEmbed));\n",
              "    }\n",
              "  })({\"config\": {\"view\": {\"continuousWidth\": 400, \"continuousHeight\": 300}}, \"data\": {\"name\": \"data-90cde866146268629877a6dd707a7a53\"}, \"mark\": \"bar\", \"encoding\": {\"x\": {\"field\": \"Season\", \"title\": \"Season\", \"type\": \"nominal\"}, \"y\": {\"aggregate\": \"count\", \"title\": \"Number of Episodes\", \"type\": \"quantitative\"}}, \"title\": \"Total Number of Episodes per Season\", \"$schema\": \"https://vega.github.io/schema/vega-lite/v4.17.0.json\", \"datasets\": {\"data-90cde866146268629877a6dd707a7a53\": [{\"No.overall\": 1, \"No. inseason\": 1, \"episode_title\": \"\\\"Extreme Aggressor\\\"\", \"episode_director\": \"Richard Shepard\", \"episode_writer\": \"Jeff Davis\", \"episode_airdate\": \"2005-09-22\", \"Prod.code\": 101, \"U.S. viewers(millions)\": \"19.57[2]\"}, {\"No.overall\": 2, \"No. inseason\": 2, \"episode_title\": \"\\\"Compulsion\\\"\", \"episode_director\": \"Charles Haid\", \"episode_writer\": \"Jeff Davis\", \"episode_airdate\": \"2005-09-28\", \"Prod.code\": 102, \"U.S. viewers(millions)\": \"10.57[3]\"}, {\"No.overall\": 3, \"No. inseason\": 3, \"episode_title\": \"\\\"Won't Get Fooled Again\\\"\", \"episode_director\": \"Kevin Bray\", \"episode_writer\": \"Aaron Zelman\", \"episode_airdate\": \"2005-10-05\", \"Prod.code\": 103, \"U.S. viewers(millions)\": \"11.98[4]\"}, {\"No.overall\": 4, \"No. inseason\": 4, \"episode_title\": \"\\\"Plain Sight\\\"\", \"episode_director\": \"Matt Earl Beesley\", \"episode_writer\": \"Edward Allen Bernero\", \"episode_airdate\": \"2005-10-12\", \"Prod.code\": 104, \"U.S. viewers(millions)\": \"13.76[5]\"}, {\"No.overall\": 5, \"No. inseason\": 5, \"episode_title\": \"\\\"Broken Mirror\\\"\", \"episode_director\": \"Guy Norman Bee\", \"episode_writer\": \"Judith McCreary\", \"episode_airdate\": \"2005-10-19\", \"Prod.code\": 105, \"U.S. viewers(millions)\": \"12.79[6]\"}, {\"No.overall\": 6, \"No. inseason\": 6, \"episode_title\": \"\\\"L.D.S.K.\\\"\", \"episode_director\": \"Ernest Dickerson\", \"episode_writer\": \"Andrew Wilder\", \"episode_airdate\": \"2005-11-02\", \"Prod.code\": 106, \"U.S. viewers(millions)\": \"16.22[7]\"}, {\"No.overall\": 7, \"No. inseason\": 7, \"episode_title\": \"\\\"The Fox\\\"\", \"episode_director\": \"Guy Norman Bee\", \"episode_writer\": \"Simon Mirren\", \"episode_airdate\": \"2005-11-09\", \"Prod.code\": 107, \"U.S. viewers(millions)\": \"15.09[8]\"}, {\"No.overall\": 8, \"No. inseason\": 8, \"episode_title\": \"\\\"Natural Born Killer\\\"\", \"episode_director\": \"Peter Ellis\", \"episode_writer\": \"Debra J. Fisher & Erica Messer\", \"episode_airdate\": \"2005-11-16\", \"Prod.code\": 109, \"U.S. viewers(millions)\": \"14.36[9]\"}, {\"No.overall\": 9, \"No. inseason\": 9, \"episode_title\": \"\\\"Derailed\\\"\", \"episode_director\": \"F\\u00e9lix Alcal\\u00e1\", \"episode_writer\": \"Jeff Davis\", \"episode_airdate\": \"2005-11-23\", \"Prod.code\": 108, \"U.S. viewers(millions)\": \"12.83[10]\"}, {\"No.overall\": 10, \"No. inseason\": 10, \"episode_title\": \"\\\"The Popular Kids\\\"\", \"episode_director\": \"Andy Wolk\", \"episode_writer\": \"Edward Allen Bernero\", \"episode_airdate\": \"2005-11-30\", \"Prod.code\": 110, \"U.S. viewers(millions)\": \"15.56[11]\"}, {\"No.overall\": 11, \"No. inseason\": 11, \"episode_title\": \"\\\"Blood Hungry\\\"\", \"episode_director\": \"Charles Haid\", \"episode_writer\": \"Ed Napier\", \"episode_airdate\": \"2005-12-14\", \"Prod.code\": 111, \"U.S. viewers(millions)\": \"15.23[12]\"}, {\"No.overall\": 12, \"No. inseason\": 12, \"episode_title\": \"\\\"What Fresh Hell?\\\"\", \"episode_director\": \"Adam Davidson\", \"episode_writer\": \"Judith McCreary\", \"episode_airdate\": \"2006-01-11\", \"Prod.code\": 112, \"U.S. viewers(millions)\": \"15.92[13]\"}, {\"No.overall\": 13, \"No. inseason\": 13, \"episode_title\": \"\\\"Poison\\\"\", \"episode_director\": \"Thomas J. Wright\", \"episode_writer\": \"Aaron Zelman\", \"episode_airdate\": \"2006-01-18\", \"Prod.code\": 113, \"U.S. viewers(millions)\": \"14.65[14]\"}, {\"No.overall\": 14, \"No. inseason\": 14, \"episode_title\": \"\\\"Riding the Lightning\\\"\", \"episode_director\": \"Chris Long\", \"episode_writer\": \"Simon Mirren\", \"episode_airdate\": \"2006-01-25\", \"Prod.code\": 114, \"U.S. viewers(millions)\": \"14.10[15]\"}, {\"No.overall\": 15, \"No. inseason\": 15, \"episode_title\": \"\\\"Unfinished Business\\\"\", \"episode_director\": \"J. Miller Tobin\", \"episode_writer\": \"Debra J. Fisher & Erica Messer\", \"episode_airdate\": \"2006-03-01\", \"Prod.code\": 115, \"U.S. viewers(millions)\": \"11.72[16]\"}, {\"No.overall\": 16, \"No. inseason\": 16, \"episode_title\": \"\\\"The Tribe\\\"\", \"episode_director\": \"Matt Earl Beesley\", \"episode_writer\": \"Andrew Wilder\", \"episode_airdate\": \"2006-03-08\", \"Prod.code\": 116, \"U.S. viewers(millions)\": \"15.27[17]\"}, {\"No.overall\": 17, \"No. inseason\": 17, \"episode_title\": \"\\\"A Real Rain\\\"\", \"episode_director\": \"Gloria Muzio\", \"episode_writer\": \"Chris Mundy\", \"episode_airdate\": \"2006-03-22\", \"Prod.code\": 117, \"U.S. viewers(millions)\": \"13.03[18]\"}, {\"No.overall\": 18, \"No. inseason\": 18, \"episode_title\": \"\\\"Somebody's Watching\\\"\", \"episode_director\": \"Paul Shapiro\", \"episode_writer\": \"Ed Napier\", \"episode_airdate\": \"2006-03-29\", \"Prod.code\": 118, \"U.S. viewers(millions)\": \"12.54[19]\"}, {\"No.overall\": 19, \"No. inseason\": 19, \"episode_title\": \"\\\"Machismo\\\"\", \"episode_director\": \"Guy Norman Bee\", \"episode_writer\": \"Aaron Zelman\", \"episode_airdate\": \"2006-04-12\", \"Prod.code\": 119, \"U.S. viewers(millions)\": \"11.76[20]\"}, {\"No.overall\": 20, \"No. inseason\": 20, \"episode_title\": \"\\\"Charm and Harm\\\"\", \"episode_director\": \"F\\u00e9lix Alcal\\u00e1\", \"episode_writer\": \"Debra J. Fisher & Erica Messer\", \"episode_airdate\": \"2006-04-19\", \"Prod.code\": 120, \"U.S. viewers(millions)\": \"13.53[21]\"}, {\"No.overall\": 21, \"No. inseason\": 21, \"episode_title\": \"\\\"Secrets and Lies\\\"\", \"episode_director\": \"Matt Earl Beesley\", \"episode_writer\": \"Simon Mirren\", \"episode_airdate\": \"2006-05-03\", \"Prod.code\": 121, \"U.S. viewers(millions)\": \"12.17[22]\"}, {\"No.overall\": 22, \"No. inseason\": 22, \"episode_title\": \"\\\"The Fisher King: Part 1\\\"\", \"episode_director\": \"Edward Allen Bernero\", \"episode_writer\": \"Edward Allen Bernero\", \"episode_airdate\": \"2006-05-10\", \"Prod.code\": 122, \"U.S. viewers(millions)\": \"12.67[23]\"}, {\"No.overall\": 23, \"No. inseason\": 1, \"episode_title\": \"\\\"The Fisher King: Part 2\\\"\", \"episode_director\": \"Gloria Muzio\", \"episode_writer\": \"Edward Allen Bernero\", \"episode_airdate\": \"2006-09-20\", \"Prod.code\": 201, \"U.S. viewers(millions)\": \"15.65[24]\"}, {\"No.overall\": 24, \"No. inseason\": 2, \"episode_title\": \"\\\"P911\\\"\", \"episode_director\": \"Adam Davidson\", \"episode_writer\": \"Simon Mirren\", \"episode_airdate\": \"2006-09-27\", \"Prod.code\": 203, \"U.S. viewers(millions)\": \"16.54[25]\"}, {\"No.overall\": 25, \"No. inseason\": 3, \"episode_title\": \"\\\"The Perfect Storm\\\"\", \"episode_director\": \"F\\u00e9lix Alcal\\u00e1\", \"episode_writer\": \"Debra J. Fisher & Erica Messer\", \"episode_airdate\": \"2006-10-04\", \"Prod.code\": 202, \"U.S. viewers(millions)\": \"15.19[26]\"}, {\"No.overall\": 26, \"No. inseason\": 4, \"episode_title\": \"\\\"Psychodrama\\\"\", \"episode_director\": \"Guy Norman Bee\", \"episode_writer\": \"Aaron Zelman\", \"episode_airdate\": \"2006-10-11\", \"Prod.code\": 204, \"U.S. viewers(millions)\": \"16.73[27]\"}, {\"No.overall\": 27, \"No. inseason\": 5, \"episode_title\": \"\\\"Aftermath\\\"\", \"episode_director\": \"Tim Matheson\", \"episode_writer\": \"Chris Mundy\", \"episode_airdate\": \"2006-10-18\", \"Prod.code\": 205, \"U.S. viewers(millions)\": \"16.20[28]\"}, {\"No.overall\": 28, \"No. inseason\": 6, \"episode_title\": \"\\\"The Boogeyman\\\"\", \"episode_director\": \"Steve Boyum\", \"episode_writer\": \"Andi Bushell\", \"episode_airdate\": \"2006-10-25\", \"Prod.code\": 206, \"U.S. viewers(millions)\": \"16.77[29]\"}, {\"No.overall\": 29, \"No. inseason\": 7, \"episode_title\": \"\\\"North Mammon\\\"\", \"episode_director\": \"Matt Earl Beesley\", \"episode_writer\": \"Andrew Wilder\", \"episode_airdate\": \"2006-11-01\", \"Prod.code\": 207, \"U.S. viewers(millions)\": \"16.97[30]\"}, {\"No.overall\": 30, \"No. inseason\": 8, \"episode_title\": \"\\\"Empty Planet\\\"\", \"episode_director\": \"Elodie Keene\", \"episode_writer\": \"Ed Napier\", \"episode_airdate\": \"2006-11-08\", \"Prod.code\": 208, \"U.S. viewers(millions)\": \"17.57[31]\"}, {\"No.overall\": 31, \"No. inseason\": 9, \"episode_title\": \"\\\"The Last Word\\\"\", \"episode_director\": \"Gloria Muzio\", \"episode_writer\": \"Debra J. Fisher & Erica Messer\", \"episode_airdate\": \"2006-11-15\", \"Prod.code\": 209, \"U.S. viewers(millions)\": \"16.48[32]\"}, {\"No.overall\": 32, \"No. inseason\": 10, \"episode_title\": \"\\\"Lessons Learned\\\"\", \"episode_director\": \"Guy Norman Bee\", \"episode_writer\": \"Jim Clemente\", \"episode_airdate\": \"2006-11-22\", \"Prod.code\": 210, \"U.S. viewers(millions)\": \"16.56[33]\"}, {\"No.overall\": 33, \"No. inseason\": 11, \"episode_title\": \"\\\"Sex, Birth, Death\\\"\", \"episode_director\": \"Gwyneth Horder-Payton\", \"episode_writer\": \"Chris Mundy\", \"episode_airdate\": \"2006-11-29\", \"Prod.code\": 211, \"U.S. viewers(millions)\": \"17.92[34]\"}, {\"No.overall\": 34, \"No. inseason\": 12, \"episode_title\": \"\\\"Profiler, Profiled\\\"\", \"episode_director\": \"Glenn Kershaw\", \"episode_writer\": \"Edward Allen Bernero\", \"episode_airdate\": \"2006-12-13\", \"Prod.code\": 212, \"U.S. viewers(millions)\": \"16.06[35]\"}, {\"No.overall\": 35, \"No. inseason\": 13, \"episode_title\": \"\\\"No Way Out\\\"\", \"episode_director\": \"John Gallagher\", \"episode_writer\": \"Simon Mirren\", \"episode_airdate\": \"2007-01-17\", \"Prod.code\": 213, \"U.S. viewers(millions)\": \"12.99[36]\"}, {\"No.overall\": 36, \"No. inseason\": 14, \"episode_title\": \"\\\"The Big Game\\\"\", \"episode_director\": \"Gloria Muzio\", \"episode_writer\": \"Edward Allen Bernero\", \"episode_airdate\": \"2007-02-04\", \"Prod.code\": 215, \"U.S. viewers(millions)\": \"26.31[37]\"}, {\"No.overall\": 37, \"No. inseason\": 15, \"episode_title\": \"\\\"Revelations\\\"\", \"episode_director\": \"Guy Norman Bee\", \"episode_writer\": \"Chris Mundy\", \"episode_airdate\": \"2007-02-07\", \"Prod.code\": 216, \"U.S. viewers(millions)\": \"16.27[38]\"}, {\"No.overall\": 38, \"No. inseason\": 16, \"episode_title\": \"\\\"Fear and Loathing\\\"\", \"episode_director\": \"Rob Spera\", \"episode_writer\": \"Aaron Zelman\", \"episode_airdate\": \"2007-02-14\", \"Prod.code\": 214, \"U.S. viewers(millions)\": \"15.16[39]\"}, {\"No.overall\": 39, \"No. inseason\": 17, \"episode_title\": \"\\\"Distress\\\"\", \"episode_director\": \"John F. Showalter\", \"episode_writer\": \"Oanh Ly\", \"episode_airdate\": \"2007-02-21\", \"Prod.code\": 217, \"U.S. viewers(millions)\": \"13.70[40]\"}, {\"No.overall\": 40, \"No. inseason\": 18, \"episode_title\": \"\\\"Jones\\\"\", \"episode_director\": \"Steve Shill\", \"episode_writer\": \"Andi Bushell\", \"episode_airdate\": \"2007-02-28\", \"Prod.code\": 218, \"U.S. viewers(millions)\": \"14.50[41]\"}, {\"No.overall\": 41, \"No. inseason\": 19, \"episode_title\": \"\\\"Ashes and Dust\\\"\", \"episode_director\": \"John Gallagher\", \"episode_writer\": \"Andrew Wilder\", \"episode_airdate\": \"2007-03-21\", \"Prod.code\": 219, \"U.S. viewers(millions)\": \"15.19[42]\"}, {\"No.overall\": 42, \"No. inseason\": 20, \"episode_title\": \"\\\"Honor Among Thieves\\\"\", \"episode_director\": \"Jes\\u00fas Trevi\\u00f1o\", \"episode_writer\": \"Aaron Zelman\", \"episode_airdate\": \"2007-04-11\", \"Prod.code\": 220, \"U.S. viewers(millions)\": \"12.80[43]\"}, {\"No.overall\": 43, \"No. inseason\": 21, \"episode_title\": \"\\\"Open Season\\\"\", \"episode_director\": \"F\\u00e9lix Alcal\\u00e1\", \"episode_writer\": \"Debra J. Fisher & Erica Messer\", \"episode_airdate\": \"2007-05-02\", \"Prod.code\": 222, \"U.S. viewers(millions)\": \"13.28[44]\"}, {\"No.overall\": 44, \"No. inseason\": 22, \"episode_title\": \"\\\"Legacy\\\"\", \"episode_director\": \"Glenn Kershaw\", \"episode_writer\": \"Edward Allen Bernero\", \"episode_airdate\": \"2007-05-09\", \"Prod.code\": 223, \"U.S. viewers(millions)\": \"12.92[45]\"}, {\"No.overall\": 45, \"No. inseason\": 23, \"episode_title\": \"\\\"No Way Out, Part II: The Evolution of Frank\\\"\", \"episode_director\": \"Edward Allen Bernero\", \"episode_writer\": \"Simon Mirren\", \"episode_airdate\": \"2007-05-16\", \"Prod.code\": 224, \"U.S. viewers(millions)\": \"13.21[46]\"}, {\"No.overall\": 46, \"No. inseason\": 1, \"episode_title\": \"\\\"Doubt\\\"\", \"episode_director\": \"Gloria Muzio\", \"episode_writer\": \"Chris Mundy\", \"episode_airdate\": \"2007-09-26\", \"Prod.code\": 221, \"U.S. viewers(millions)\": \"12.66[47]\"}, {\"No.overall\": 47, \"No. inseason\": 2, \"episode_title\": \"\\\"In Name and Blood\\\"\", \"episode_director\": \"Edward Allen Bernero\", \"episode_writer\": \"Chris Mundy\", \"episode_airdate\": \"2007-10-03\", \"Prod.code\": 301, \"U.S. viewers(millions)\": \"14.56[48]\"}, {\"No.overall\": 48, \"No. inseason\": 3, \"episode_title\": \"\\\"Scared to Death\\\"\", \"episode_director\": \"F\\u00e9lix Alcal\\u00e1\", \"episode_writer\": \"Debra J. Fisher & Erica Messer\", \"episode_airdate\": \"2007-10-10\", \"Prod.code\": 302, \"U.S. viewers(millions)\": \"14.55[49]\"}, {\"No.overall\": 49, \"No. inseason\": 4, \"episode_title\": \"\\\"Children of the Dark\\\"\", \"episode_director\": \"Guy Norman Bee\", \"episode_writer\": \"Dan Dworkin & Jay Beattie\", \"episode_airdate\": \"2007-10-17\", \"Prod.code\": 303, \"U.S. viewers(millions)\": \"15.03[50]\"}, {\"No.overall\": 50, \"No. inseason\": 5, \"episode_title\": \"\\\"Seven Seconds\\\"\", \"episode_director\": \"John Gallagher\", \"episode_writer\": \"Andi Bushell\", \"episode_airdate\": \"2007-10-24\", \"Prod.code\": 304, \"U.S. viewers(millions)\": \"15.05[51]\"}, {\"No.overall\": 51, \"No. inseason\": 6, \"episode_title\": \"\\\"About Face\\\"\", \"episode_director\": \"Skipp Sudduth\", \"episode_writer\": \"Charles Murray\", \"episode_airdate\": \"2007-10-31\", \"Prod.code\": 305, \"U.S. viewers(millions)\": \"14.94[52]\"}, {\"No.overall\": 52, \"No. inseason\": 7, \"episode_title\": \"\\\"Identity\\\"\", \"episode_director\": \"Gwyneth Horder-Payton\", \"episode_writer\": \"Oanh Ly\", \"episode_airdate\": \"2007-11-07\", \"Prod.code\": 306, \"U.S. viewers(millions)\": \"14.65[53]\"}, {\"No.overall\": 53, \"No. inseason\": 8, \"episode_title\": \"\\\"Lucky\\\"\", \"episode_director\": \"Steve Boyum\", \"episode_writer\": \"Andrew Wilder\", \"episode_airdate\": \"2007-11-14\", \"Prod.code\": 307, \"U.S. viewers(millions)\": \"15.73[54]\"}, {\"No.overall\": 54, \"No. inseason\": 9, \"episode_title\": \"\\\"Penelope\\\"\", \"episode_director\": \"F\\u00e9lix Alcal\\u00e1\", \"episode_writer\": \"Chris Mundy\", \"episode_airdate\": \"2007-11-21\", \"Prod.code\": 308, \"U.S. viewers(millions)\": \"15.88[55]\"}, {\"No.overall\": 55, \"No. inseason\": 10, \"episode_title\": \"\\\"True Night\\\"\", \"episode_director\": \"Edward Allen Bernero\", \"episode_writer\": \"Edward Allen Bernero\", \"episode_airdate\": \"2007-11-28\", \"Prod.code\": 309, \"U.S. viewers(millions)\": \"16.23[56]\"}, {\"No.overall\": 56, \"No. inseason\": 11, \"episode_title\": \"\\\"Birthright\\\"\", \"episode_director\": \"John Gallagher\", \"episode_writer\": \"Debra J. Fisher & Erica Messer\", \"episode_airdate\": \"2007-12-12\", \"Prod.code\": 310, \"U.S. viewers(millions)\": \"14.18[57]\"}, {\"No.overall\": 57, \"No. inseason\": 12, \"episode_title\": \"\\\"3rd Life\\\"\", \"episode_director\": \"Anthony Hemingway\", \"episode_writer\": \"Simon Mirren\", \"episode_airdate\": \"2008-01-09\", \"Prod.code\": 311, \"U.S. viewers(millions)\": \"14.30[58]\"}, {\"No.overall\": 58, \"No. inseason\": 13, \"episode_title\": \"\\\"Limelight\\\"\", \"episode_director\": \"Glenn Kershaw\", \"episode_writer\": \"Dan Dworkin & Jay Beattie\", \"episode_airdate\": \"2008-01-23\", \"Prod.code\": 312, \"U.S. viewers(millions)\": \"12.67[59]\"}, {\"No.overall\": 59, \"No. inseason\": 14, \"episode_title\": \"\\\"Damaged\\\"\", \"episode_director\": \"Edward Allen Bernero\", \"episode_writer\": \"Edward Allen Bernero\", \"episode_airdate\": \"2008-04-02\", \"Prod.code\": 313, \"U.S. viewers(millions)\": \"12.81[60]\"}, {\"No.overall\": 60, \"No. inseason\": 15, \"episode_title\": \"\\\"A Higher Power\\\"\", \"episode_director\": \"F\\u00e9lix Alcal\\u00e1\", \"episode_writer\": \"Michael Udesky\", \"episode_airdate\": \"2008-04-09\", \"Prod.code\": 314, \"U.S. viewers(millions)\": \"13.33[61]\"}, {\"No.overall\": 61, \"No. inseason\": 16, \"episode_title\": \"\\\"Elephant's Memory\\\"\", \"episode_director\": \"Bobby Roth\", \"episode_writer\": \"Andrew S. Wilder\", \"episode_airdate\": \"2008-04-16\", \"Prod.code\": 315, \"U.S. viewers(millions)\": \"12.98[62]\"}, {\"No.overall\": 62, \"No. inseason\": 17, \"episode_title\": \"\\\"In Heat\\\"\", \"episode_director\": \"John Gallagher\", \"episode_writer\": \"Andi Bushell\", \"episode_airdate\": \"2008-04-30\", \"Prod.code\": 316, \"U.S. viewers(millions)\": \"13.03[63]\"}, {\"No.overall\": 63, \"No. inseason\": 18, \"episode_title\": \"\\\"The Crossing\\\"\", \"episode_director\": \"Guy Norman Bee\", \"episode_writer\": \"Debra J. Fisher & Erica Messer\", \"episode_airdate\": \"2008-05-07\", \"Prod.code\": 317, \"U.S. viewers(millions)\": \"12.88[64]\"}, {\"No.overall\": 64, \"No. inseason\": 19, \"episode_title\": \"\\\"Tabula Rasa\\\"\", \"episode_director\": \"Steve Boyum\", \"episode_writer\": \"Dan Dworkin & Jay Beattie\", \"episode_airdate\": \"2008-05-14\", \"Prod.code\": 318, \"U.S. viewers(millions)\": \"12.88[65]\"}, {\"No.overall\": 65, \"No. inseason\": 20, \"episode_title\": \"\\\"Lo-Fi\\\"\", \"episode_director\": \"Glenn Kershaw\", \"episode_writer\": \"Chris Mundy\", \"episode_airdate\": \"2008-05-21\", \"Prod.code\": 319, \"U.S. viewers(millions)\": \"13.15[66]\"}, {\"No.overall\": 66, \"No. inseason\": 1, \"episode_title\": \"\\\"Mayhem\\\"\", \"episode_director\": \"Edward Allen Bernero\", \"episode_writer\": \"Simon Mirren\", \"episode_airdate\": \"2008-09-24\", \"Prod.code\": 401, \"U.S. viewers(millions)\": \"17.01[67]\"}, {\"No.overall\": 67, \"No. inseason\": 2, \"episode_title\": \"\\\"The Angel Maker\\\"\", \"episode_director\": \"Glenn Kershaw\", \"episode_writer\": \"Dan Dworkin & Jay Beattie\", \"episode_airdate\": \"2008-10-01\", \"Prod.code\": 402, \"U.S. viewers(millions)\": \"14.78[68]\"}, {\"No.overall\": 68, \"No. inseason\": 3, \"episode_title\": \"\\\"Minimal Loss\\\"\", \"episode_director\": \"F\\u00e9lix Alcal\\u00e1\", \"episode_writer\": \"Andrew Wilder\", \"episode_airdate\": \"2008-10-08\", \"Prod.code\": 403, \"U.S. viewers(millions)\": \"16.19[69]\"}, {\"No.overall\": 69, \"No. inseason\": 4, \"episode_title\": \"\\\"Paradise\\\"\", \"episode_director\": \"John Gallagher\", \"episode_writer\": \"Debra J. Fisher & Erica Messer\", \"episode_airdate\": \"2008-10-22\", \"Prod.code\": 404, \"U.S. viewers(millions)\": \"15.01[70]\"}, {\"No.overall\": 70, \"No. inseason\": 5, \"episode_title\": \"\\\"Catching Out\\\"\", \"episode_director\": \"Charles Haid\", \"episode_writer\": \"Oanh Ly\", \"episode_airdate\": \"2008-10-29\", \"Prod.code\": 406, \"U.S. viewers(millions)\": \"13.97[71]\"}, {\"No.overall\": 71, \"No. inseason\": 6, \"episode_title\": \"\\\"The Instincts\\\"\", \"episode_director\": \"Rob Spera\", \"episode_writer\": \"Chris Mundy\", \"episode_airdate\": \"2008-11-05\", \"Prod.code\": 405, \"U.S. viewers(millions)\": \"14.30[72]\"}, {\"No.overall\": 72, \"No. inseason\": 7, \"episode_title\": \"\\\"Memoriam\\\"\", \"episode_director\": \"Guy Norman Bee\", \"episode_writer\": \"Dan Dworkin & Jay Beattie\", \"episode_airdate\": \"2008-11-12\", \"Prod.code\": 407, \"U.S. viewers(millions)\": \"14.83[73]\"}, {\"No.overall\": 73, \"No. inseason\": 8, \"episode_title\": \"\\\"Masterpiece\\\"\", \"episode_director\": \"Paul Michael Glaser\", \"episode_writer\": \"Edward Allen Bernero\", \"episode_airdate\": \"2008-11-19\", \"Prod.code\": 408, \"U.S. viewers(millions)\": \"16.33[74]\"}, {\"No.overall\": 74, \"No. inseason\": 9, \"episode_title\": \"\\\"52 Pickup\\\"\", \"episode_director\": \"Bobby Roth\", \"episode_writer\": \"Breen Frazier\", \"episode_airdate\": \"2008-11-26\", \"Prod.code\": 409, \"U.S. viewers(millions)\": \"14.11[75]\"}, {\"No.overall\": 75, \"No. inseason\": 10, \"episode_title\": \"\\\"Brothers in Arms\\\"\", \"episode_director\": \"Glenn Kershaw\", \"episode_writer\": \"Holly Harold\", \"episode_airdate\": \"2008-12-10\", \"Prod.code\": 410, \"U.S. viewers(millions)\": \"14.68[76]\"}, {\"No.overall\": 76, \"No. inseason\": 11, \"episode_title\": \"\\\"Normal\\\"\", \"episode_director\": \"Steve Boyum\", \"episode_writer\": \"Andrew S. Wilder\", \"episode_airdate\": \"2008-12-17\", \"Prod.code\": 411, \"U.S. viewers(millions)\": \"15.16[77]\"}, {\"No.overall\": 77, \"No. inseason\": 12, \"episode_title\": \"\\\"Soul Mates\\\"\", \"episode_director\": \"John Gallagher\", \"episode_writer\": \"Debra J. Fisher & Erica Messer\", \"episode_airdate\": \"2009-01-14\", \"Prod.code\": 412, \"U.S. viewers(millions)\": \"13.78[78]\"}, {\"No.overall\": 78, \"No. inseason\": 13, \"episode_title\": \"\\\"Bloodline\\\"\", \"episode_director\": \"Tim Matheson\", \"episode_writer\": \"Mark Linehan Bruner\", \"episode_airdate\": \"2009-01-21\", \"Prod.code\": 413, \"U.S. viewers(millions)\": \"13.82[79]\"}, {\"No.overall\": 79, \"No. inseason\": 14, \"episode_title\": \"\\\"Cold Comfort\\\"\", \"episode_director\": \"Anna J. Foerster\", \"episode_writer\": \"Dan Dworkin & Jay Beattie\", \"episode_airdate\": \"2009-02-11\", \"Prod.code\": 414, \"U.S. viewers(millions)\": \"12.48[80]\"}, {\"No.overall\": 80, \"No. inseason\": 15, \"episode_title\": \"\\\"Zoe's Reprise\\\"\", \"episode_director\": \"Charles S. Carroll\", \"episode_writer\": \"Oanh Ly\", \"episode_airdate\": \"2009-02-18\", \"Prod.code\": 415, \"U.S. viewers(millions)\": \"14.54[81]\"}, {\"No.overall\": 81, \"No. inseason\": 16, \"episode_title\": \"\\\"Pleasure Is My Business\\\"\", \"episode_director\": \"Gwyneth Horder-Payton\", \"episode_writer\": \"Breen Frazier\", \"episode_airdate\": \"2009-02-25\", \"Prod.code\": 416, \"U.S. viewers(millions)\": \"13.93[82]\"}, {\"No.overall\": 82, \"No. inseason\": 17, \"episode_title\": \"\\\"Demonology\\\"\", \"episode_director\": \"Edward Allen Bernero\", \"episode_writer\": \"Chris Mundy\", \"episode_airdate\": \"2009-03-11\", \"Prod.code\": 417, \"U.S. viewers(millions)\": \"14.34[83]\"}, {\"No.overall\": 83, \"No. inseason\": 18, \"episode_title\": \"\\\"Omnivore\\\"\", \"episode_director\": \"Nelson McCormick\", \"episode_writer\": \"Andrew S. Wilder\", \"episode_airdate\": \"2009-03-18\", \"Prod.code\": 418, \"U.S. viewers(millions)\": \"13.74[84]\"}, {\"No.overall\": 84, \"No. inseason\": 19, \"episode_title\": \"\\\"House on Fire\\\"\", \"episode_director\": \"F\\u00e9lix Alcal\\u00e1\", \"episode_writer\": \"Holly Harold\", \"episode_airdate\": \"2009-03-25\", \"Prod.code\": 419, \"U.S. viewers(millions)\": \"14.36[85]\"}, {\"No.overall\": 85, \"No. inseason\": 20, \"episode_title\": \"\\\"Conflicted\\\"\", \"episode_director\": \"Jason Alexander\", \"episode_writer\": \"Rick Dunkle\", \"episode_airdate\": \"2009-04-08\", \"Prod.code\": 420, \"U.S. viewers(millions)\": \"13.61[86]\"}, {\"No.overall\": 86, \"No. inseason\": 21, \"episode_title\": \"\\\"A Shade of Gray\\\"\", \"episode_director\": \"Karen Gaviola\", \"episode_writer\": \"Debra J. Fisher & Erica Messer\", \"episode_airdate\": \"2009-04-22\", \"Prod.code\": 421, \"U.S. viewers(millions)\": \"13.72[87]\"}, {\"No.overall\": 87, \"No. inseason\": 22, \"episode_title\": \"\\\"The Big Wheel\\\"\", \"episode_director\": \"Rob Hardy\", \"episode_writer\": \"Simon Mirren\", \"episode_airdate\": \"2009-04-29\", \"Prod.code\": 422, \"U.S. viewers(millions)\": \"13.61[88]\"}, {\"No.overall\": 88, \"No. inseason\": 23, \"episode_title\": \"\\\"Roadkill\\\"\", \"episode_director\": \"Steve Boyum\", \"episode_writer\": \"Dan Dworkin & Jay Beattie\", \"episode_airdate\": \"2009-05-06\", \"Prod.code\": 423, \"U.S. viewers(millions)\": \"14.13[89]\"}, {\"No.overall\": 89, \"No. inseason\": 24, \"episode_title\": \"\\\"Amplification\\\"\", \"episode_director\": \"John Gallagher\", \"episode_writer\": \"Oanh Ly\", \"episode_airdate\": \"2009-05-13\", \"Prod.code\": 424, \"U.S. viewers(millions)\": \"13.37[90]\"}, {\"No.overall\": 90, \"No. inseason\": 25, \"episode_title\": \"\\\"To Hell\\u2026\\\"\", \"episode_director\": \"Charles Haid\", \"episode_writer\": \"Chris Mundy\", \"episode_airdate\": \"2009-05-20\", \"Prod.code\": 425, \"U.S. viewers(millions)\": \"13.99[91]\"}, {\"No.overall\": 91, \"No. inseason\": 26, \"episode_title\": \"\\\"\\u2026And Back\\\"\", \"episode_director\": \"Edward Allen Bernero\", \"episode_writer\": \"Edward Allen Bernero\", \"episode_airdate\": \"2009-05-20\", \"Prod.code\": 426, \"U.S. viewers(millions)\": \"13.99[91]\"}, {\"No.overall\": 92, \"No. inseason\": 1, \"episode_title\": \"\\\"Nameless, Faceless\\\"\", \"episode_director\": \"Charles S. Carroll\", \"episode_writer\": \"Chris Mundy\", \"episode_airdate\": \"2009-09-23\", \"Prod.code\": 501, \"U.S. viewers(millions)\": \"15.85[92]\"}, {\"No.overall\": 93, \"No. inseason\": 2, \"episode_title\": \"\\\"Haunted\\\"\", \"episode_director\": \"Jon Cassar\", \"episode_writer\": \"Erica Messer\", \"episode_airdate\": \"2009-09-30\", \"Prod.code\": 502, \"U.S. viewers(millions)\": \"14.24[93]\"}, {\"No.overall\": 94, \"No. inseason\": 3, \"episode_title\": \"\\\"Reckoner\\\"\", \"episode_director\": \"Karen Gaviola\", \"episode_writer\": \"Dan Dworkin & Jay Beattie\", \"episode_airdate\": \"2009-10-07\", \"Prod.code\": 503, \"U.S. viewers(millions)\": \"14.05[94]\"}, {\"No.overall\": 95, \"No. inseason\": 4, \"episode_title\": \"\\\"Hopeless\\\"\", \"episode_director\": \"F\\u00e9lix Alcal\\u00e1\", \"episode_writer\": \"Chris Mundy\", \"episode_airdate\": \"2009-10-14\", \"Prod.code\": 504, \"U.S. viewers(millions)\": \"13.92[95]\"}, {\"No.overall\": 96, \"No. inseason\": 5, \"episode_title\": \"\\\"Cradle to Grave\\\"\", \"episode_director\": \"Rob Spera\", \"episode_writer\": \"Breen Frazier\", \"episode_airdate\": \"2009-10-21\", \"Prod.code\": 505, \"U.S. viewers(millions)\": \"14.27[96]\"}, {\"No.overall\": 97, \"No. inseason\": 6, \"episode_title\": \"\\\"The Eyes Have It\\\"\", \"episode_director\": \"Glenn Kershaw\", \"episode_writer\": \"Oanh Ly\", \"episode_airdate\": \"2009-11-04\", \"Prod.code\": 506, \"U.S. viewers(millions)\": \"12.55[97]\"}, {\"No.overall\": 98, \"No. inseason\": 7, \"episode_title\": \"\\\"The Performer\\\"\", \"episode_director\": \"John Badham\", \"episode_writer\": \"Holly Harold\", \"episode_airdate\": \"2009-11-11\", \"Prod.code\": 507, \"U.S. viewers(millions)\": \"12.77[98]\"}, {\"No.overall\": 99, \"No. inseason\": 8, \"episode_title\": \"\\\"Outfoxed\\\"\", \"episode_director\": \"John Gallagher\", \"episode_writer\": \"Simon Mirren\", \"episode_airdate\": \"2009-11-18\", \"Prod.code\": 508, \"U.S. viewers(millions)\": \"13.70[99]\"}, {\"No.overall\": 100, \"No. inseason\": 9, \"episode_title\": \"\\\"100\\\"\", \"episode_director\": \"Edward Allen Bernero\", \"episode_writer\": \"Bo Crese[N 1]\", \"episode_airdate\": \"2009-11-25\", \"Prod.code\": 509, \"U.S. viewers(millions)\": \"13.61[100]\"}, {\"No.overall\": 101, \"No. inseason\": 10, \"episode_title\": \"\\\"The Slave of Duty\\\"\", \"episode_director\": \"Charles Haid\", \"episode_writer\": \"Rick Dunkle\", \"episode_airdate\": \"2009-12-09\", \"Prod.code\": 510, \"U.S. viewers(millions)\": \"14.43[101]\"}, {\"No.overall\": 102, \"No. inseason\": 11, \"episode_title\": \"\\\"Retaliation\\\"\", \"episode_director\": \"F\\u00e9lix Alcal\\u00e1\", \"episode_writer\": \"Erica Messer\", \"episode_airdate\": \"2009-12-16\", \"Prod.code\": 511, \"U.S. viewers(millions)\": \"14.68[102]\"}, {\"No.overall\": 103, \"No. inseason\": 12, \"episode_title\": \"\\\"The Uncanny Valley\\\"\", \"episode_director\": \"Anna J. Foerster\", \"episode_writer\": \"Breen Frazier\", \"episode_airdate\": \"2010-01-13\", \"Prod.code\": 512, \"U.S. viewers(millions)\": \"13.90[103]\"}, {\"No.overall\": 104, \"No. inseason\": 13, \"episode_title\": \"\\\"Risky Business\\\"\", \"episode_director\": \"Rob Spera\", \"episode_writer\": \"Jim Clemente\", \"episode_airdate\": \"2010-01-20\", \"Prod.code\": 513, \"U.S. viewers(millions)\": \"14.91[104]\"}, {\"No.overall\": 105, \"No. inseason\": 14, \"episode_title\": \"\\\"Parasite\\\"\", \"episode_director\": \"Charles S. Carroll\", \"episode_writer\": \"Oanh Ly\", \"episode_airdate\": \"2010-02-03\", \"Prod.code\": 514, \"U.S. viewers(millions)\": \"14.75[105]\"}, {\"No.overall\": 106, \"No. inseason\": 15, \"episode_title\": \"\\\"Public Enemy\\\"\", \"episode_director\": \"Nelson McCormick\", \"episode_writer\": \"Jess Prenter Prosser\", \"episode_airdate\": \"2010-02-10\", \"Prod.code\": 515, \"U.S. viewers(millions)\": \"14.33[106]\"}, {\"No.overall\": 107, \"No. inseason\": 16, \"episode_title\": \"\\\"Mosley Lane\\\"\", \"episode_director\": \"Matthew Gray Gubler\", \"episode_writer\": \"Simon Mirren & Erica Messer\", \"episode_airdate\": \"2010-03-03\", \"Prod.code\": 516, \"U.S. viewers(millions)\": \"13.00[107]\"}, {\"No.overall\": 108, \"No. inseason\": 17, \"episode_title\": \"\\\"Solitary Man\\\"\", \"episode_director\": \"Rob Hardy\", \"episode_writer\": \"Kimberly Ann Harrison & Ryan Gibson\", \"episode_airdate\": \"2010-03-10\", \"Prod.code\": 517, \"U.S. viewers(millions)\": \"13.29[108]\"}, {\"No.overall\": 109, \"No. inseason\": 18, \"episode_title\": \"\\\"The Fight\\\"\", \"episode_director\": \"Richard Shepard\", \"episode_writer\": \"Teleplay by\\u200a: Chris MundyStory by\\u200a: Chris Mundy & Edward Allen Bernero\", \"episode_airdate\": \"2010-04-07\", \"Prod.code\": 518, \"U.S. viewers(millions)\": \"12.70[109]\"}, {\"No.overall\": 110, \"No. inseason\": 19, \"episode_title\": \"\\\"A Rite of Passage\\\"\", \"episode_director\": \"John Gallagher\", \"episode_writer\": \"Victor De Jesus\", \"episode_airdate\": \"2010-04-14\", \"Prod.code\": 519, \"U.S. viewers(millions)\": \"12.44[110]\"}, {\"No.overall\": 111, \"No. inseason\": 20, \"episode_title\": \"\\\"\\u2026A Thousand Words\\\"\", \"episode_director\": \"Rosemary Rodriguez\", \"episode_writer\": \"Edward Allen Bernero\", \"episode_airdate\": \"2010-05-05\", \"Prod.code\": 520, \"U.S. viewers(millions)\": \"12.39[111]\"}, {\"No.overall\": 112, \"No. inseason\": 21, \"episode_title\": \"\\\"Exit Wounds\\\"\", \"episode_director\": \"Charles S. Carroll\", \"episode_writer\": \"Rick Dunkle\", \"episode_airdate\": \"2010-05-12\", \"Prod.code\": 521, \"U.S. viewers(millions)\": \"13.07[112]\"}, {\"No.overall\": 113, \"No. inseason\": 22, \"episode_title\": \"\\\"The Internet Is Forever\\\"\", \"episode_director\": \"Glenn Kershaw\", \"episode_writer\": \"Breen Frazier\", \"episode_airdate\": \"2010-05-19\", \"Prod.code\": 522, \"U.S. viewers(millions)\": \"13.25[113]\"}, {\"No.overall\": 114, \"No. inseason\": 23, \"episode_title\": \"\\\"Our Darkest Hour\\\"\", \"episode_director\": \"Edward Allen Bernero\", \"episode_writer\": \"Erica Messer\", \"episode_airdate\": \"2010-05-26\", \"Prod.code\": 523, \"U.S. viewers(millions)\": \"12.97[114]\"}, {\"No.overall\": 115, \"No. inseason\": 1, \"episode_title\": \"\\\"The Longest Night\\\"\", \"episode_director\": \"Edward Allen Bernero\", \"episode_writer\": \"Edward Allen Bernero\", \"episode_airdate\": \"2010-09-22\", \"Prod.code\": 601, \"U.S. viewers(millions)\": \"14.13[115]\"}, {\"No.overall\": 116, \"No. inseason\": 2, \"episode_title\": \"\\\"JJ\\\"\", \"episode_director\": \"Charles S. Carroll\", \"episode_writer\": \"Erica Messer\", \"episode_airdate\": \"2010-09-29\", \"Prod.code\": 602, \"U.S. viewers(millions)\": \"14.57[116]\"}, {\"No.overall\": 117, \"No. inseason\": 3, \"episode_title\": \"\\\"Remembrance of Things Past\\\"\", \"episode_director\": \"Glenn Kershaw\", \"episode_writer\": \"Janine Sherman Barrois\", \"episode_airdate\": \"2010-10-06\", \"Prod.code\": 604, \"U.S. viewers(millions)\": \"13.87[117]\"}, {\"No.overall\": 118, \"No. inseason\": 4, \"episode_title\": \"\\\"Compromising Positions\\\"\", \"episode_director\": \"Guy Norman Bee\", \"episode_writer\": \"Breen Frazier\", \"episode_airdate\": \"2010-10-13\", \"Prod.code\": 603, \"U.S. viewers(millions)\": \"14.00[118]\"}, {\"No.overall\": 119, \"No. inseason\": 5, \"episode_title\": \"\\\"Safe Haven\\\"\", \"episode_director\": \"Andy Wolk\", \"episode_writer\": \"Alicia Kirk\", \"episode_airdate\": \"2010-10-20\", \"Prod.code\": 605, \"U.S. viewers(millions)\": \"14.46[119]\"}, {\"No.overall\": 120, \"No. inseason\": 6, \"episode_title\": \"\\\"Devil's Night\\\"\", \"episode_director\": \"Charlie Haid\", \"episode_writer\": \"Randy Huggins\", \"episode_airdate\": \"2010-10-27\", \"Prod.code\": 606, \"U.S. viewers(millions)\": \"13.94[120]\"}, {\"No.overall\": 121, \"No. inseason\": 7, \"episode_title\": \"\\\"Middle Man\\\"\", \"episode_director\": \"Rob Spera\", \"episode_writer\": \"Rick Dunkle\", \"episode_airdate\": \"2010-11-03\", \"Prod.code\": 607, \"U.S. viewers(millions)\": \"14.58[121]\"}, {\"No.overall\": 122, \"No. inseason\": 8, \"episode_title\": \"\\\"Reflection of Desire\\\"\", \"episode_director\": \"Anna J. Foerster\", \"episode_writer\": \"Simon Mirren\", \"episode_airdate\": \"2010-11-10\", \"Prod.code\": 608, \"U.S. viewers(millions)\": \"12.56[122]\"}, {\"No.overall\": 123, \"No. inseason\": 9, \"episode_title\": \"\\\"Into the Woods\\\"\", \"episode_director\": \"Glenn Kershaw\", \"episode_writer\": \"Kimberly Ann Harrison\", \"episode_airdate\": \"2010-11-17\", \"Prod.code\": 609, \"U.S. viewers(millions)\": \"14.39[123]\"}, {\"No.overall\": 124, \"No. inseason\": 10, \"episode_title\": \"\\\"What Happens at Home\\\"\", \"episode_director\": \"Jan Eliasberg\", \"episode_writer\": \"Edward Allen Bernero\", \"episode_airdate\": \"2010-12-08\", \"Prod.code\": 610, \"U.S. viewers(millions)\": \"14.23[124]\"}, {\"No.overall\": 125, \"No. inseason\": 11, \"episode_title\": \"\\\"25 to Life\\\"\", \"episode_director\": \"Charles S. Carroll\", \"episode_writer\": \"Erica Messer\", \"episode_airdate\": \"2010-12-15\", \"Prod.code\": 611, \"U.S. viewers(millions)\": \"13.77[125]\"}, {\"No.overall\": 126, \"No. inseason\": 12, \"episode_title\": \"\\\"Corazon\\\"\", \"episode_director\": \"John Gallagher\", \"episode_writer\": \"Katarina Wittich\", \"episode_airdate\": \"2011-01-19\", \"Prod.code\": 612, \"U.S. viewers(millions)\": \"12.02[126]\"}, {\"No.overall\": 127, \"No. inseason\": 13, \"episode_title\": \"\\\"The Thirteenth Step\\\"\", \"episode_director\": \"Doug Aarniokoski\", \"episode_writer\": \"Janine Sherman Barrois\", \"episode_airdate\": \"2011-01-26\", \"Prod.code\": 613, \"U.S. viewers(millions)\": \"12.77[127]\"}, {\"No.overall\": 128, \"No. inseason\": 14, \"episode_title\": \"\\\"Sense Memory\\\"\", \"episode_director\": \"Rob Spera\", \"episode_writer\": \"Randy Huggins\", \"episode_airdate\": \"2011-02-09\", \"Prod.code\": 614, \"U.S. viewers(millions)\": \"13.67[128]\"}, {\"No.overall\": 129, \"No. inseason\": 15, \"episode_title\": \"\\\"Today I Do\\\"\", \"episode_director\": \"Ali Selim\", \"episode_writer\": \"Alicia Kirk\", \"episode_airdate\": \"2011-02-16\", \"Prod.code\": 615, \"U.S. viewers(millions)\": \"12.85[129]\"}, {\"No.overall\": 130, \"No. inseason\": 16, \"episode_title\": \"\\\"Coda\\\"\", \"episode_director\": \"Rob Hardy\", \"episode_writer\": \"Rick Dunkle\", \"episode_airdate\": \"2011-02-23\", \"Prod.code\": 616, \"U.S. viewers(millions)\": \"13.15[130]\"}, {\"No.overall\": 131, \"No. inseason\": 17, \"episode_title\": \"\\\"Valhalla\\\"\", \"episode_director\": \"Charles S. Carroll\", \"episode_writer\": \"Simon Mirren & Erica Messer\", \"episode_airdate\": \"2011-03-02\", \"Prod.code\": 617, \"U.S. viewers(millions)\": \"14.37[131]\"}, {\"No.overall\": 132, \"No. inseason\": 18, \"episode_title\": \"\\\"Lauren\\\"\", \"episode_director\": \"Matthew Gray Gubler\", \"episode_writer\": \"Breen Frazier\", \"episode_airdate\": \"2011-03-16\", \"Prod.code\": 618, \"U.S. viewers(millions)\": \"13.73[132]\"}, {\"No.overall\": 133, \"No. inseason\": 19, \"episode_title\": \"\\\"With Friends Like These...\\\"\", \"episode_director\": \"Anna J. Foerster\", \"episode_writer\": \"Janine Sherman Barrois\", \"episode_airdate\": \"2011-03-30\", \"Prod.code\": 619, \"U.S. viewers(millions)\": \"13.05[133]\"}, {\"No.overall\": 134, \"No. inseason\": 20, \"episode_title\": \"\\\"Hanley Waters\\\"\", \"episode_director\": \"Jesse Warn\", \"episode_writer\": \"Alicia Kirk & Randy Huggins\", \"episode_airdate\": \"2011-04-06\", \"Prod.code\": 620, \"U.S. viewers(millions)\": \"14.08[134]\"}, {\"No.overall\": 135, \"No. inseason\": 21, \"episode_title\": \"\\\"The Stranger\\\"\", \"episode_director\": \"Nelson McCormick\", \"episode_writer\": \"Kimberly Ann Harrison & Rick Dunkle\", \"episode_airdate\": \"2011-04-13\", \"Prod.code\": 621, \"U.S. viewers(millions)\": \"13.59[135]\"}, {\"No.overall\": 136, \"No. inseason\": 22, \"episode_title\": \"\\\"Out of the Light\\\"\", \"episode_director\": \"Doug Aarniokoski\", \"episode_writer\": \"Roger Hedden\", \"episode_airdate\": \"2011-05-04\", \"Prod.code\": 622, \"U.S. viewers(millions)\": \"12.90[136]\"}, {\"No.overall\": 137, \"No. inseason\": 23, \"episode_title\": \"\\\"Big Sea\\\"\", \"episode_director\": \"Glenn Kershaw\", \"episode_writer\": \"Jim Clemente & Breen Frazier\", \"episode_airdate\": \"2011-05-11\", \"Prod.code\": 623, \"U.S. viewers(millions)\": \"13.29[137]\"}, {\"No.overall\": 138, \"No. inseason\": 24, \"episode_title\": \"\\\"Supply & Demand\\\"\", \"episode_director\": \"Charles S. Carroll\", \"episode_writer\": \"Erica Messer\", \"episode_airdate\": \"2011-05-18\", \"Prod.code\": 624, \"U.S. viewers(millions)\": \"12.84[138]\"}, {\"No.overall\": 139, \"No. inseason\": 1, \"episode_title\": \"\\\"It Takes a Village\\\"\", \"episode_director\": \"Glenn Kershaw\", \"episode_writer\": \"Erica Messer\", \"episode_airdate\": \"2011-09-21\", \"Prod.code\": 701, \"U.S. viewers(millions)\": \"14.14[139]\"}, {\"No.overall\": 140, \"No. inseason\": 2, \"episode_title\": \"\\\"Proof\\\"\", \"episode_director\": \"Karen Gaviola\", \"episode_writer\": \"Janine Sherman Barrois\", \"episode_airdate\": \"2011-09-28\", \"Prod.code\": 702, \"U.S. viewers(millions)\": \"12.58[140]\"}, {\"No.overall\": 141, \"No. inseason\": 3, \"episode_title\": \"\\\"Dorado Falls\\\"\", \"episode_director\": \"F\\u00e9lix Alcal\\u00e1\", \"episode_writer\": \"Sharon Lee Watson\", \"episode_airdate\": \"2011-10-05\", \"Prod.code\": 703, \"U.S. viewers(millions)\": \"13.43[141]\"}, {\"No.overall\": 142, \"No. inseason\": 4, \"episode_title\": \"\\\"Painless\\\"\", \"episode_director\": \"Larry Teng\", \"episode_writer\": \"Breen Frazier\", \"episode_airdate\": \"2011-10-12\", \"Prod.code\": 704, \"U.S. viewers(millions)\": \"12.87[142]\"}, {\"No.overall\": 143, \"No. inseason\": 5, \"episode_title\": \"\\\"From Childhood's Hour\\\"\", \"episode_director\": \"Anna J. Foerster\", \"episode_writer\": \"Bruce Zimmerman\", \"episode_airdate\": \"2011-10-19\", \"Prod.code\": 705, \"U.S. viewers(millions)\": \"13.15[143]\"}, {\"No.overall\": 144, \"No. inseason\": 6, \"episode_title\": \"\\\"Epilogue\\\"\", \"episode_director\": \"Guy Ferland\", \"episode_writer\": \"Rick Dunkle\", \"episode_airdate\": \"2011-11-02\", \"Prod.code\": 706, \"U.S. viewers(millions)\": \"12.94[144]\"}, {\"No.overall\": 145, \"No. inseason\": 7, \"episode_title\": \"\\\"There's No Place Like Home\\\"\", \"episode_director\": \"Rob Spera\", \"episode_writer\": \"Virgil Williams\", \"episode_airdate\": \"2011-11-09\", \"Prod.code\": 707, \"U.S. viewers(millions)\": \"11.36[145]\"}, {\"No.overall\": 146, \"No. inseason\": 8, \"episode_title\": \"\\\"Hope\\\"\", \"episode_director\": \"Michael Watkins\", \"episode_writer\": \"Kimberly Ann Harrison\", \"episode_airdate\": \"2011-11-16\", \"Prod.code\": 708, \"U.S. viewers(millions)\": \"12.72[146]\"}, {\"No.overall\": 147, \"No. inseason\": 9, \"episode_title\": \"\\\"Self-Fulfilling Prophecy\\\"\", \"episode_director\": \"Charlie Haid\", \"episode_writer\": \"Erica Messer\", \"episode_airdate\": \"2011-12-07\", \"Prod.code\": 709, \"U.S. viewers(millions)\": \"12.41[147]\"}, {\"No.overall\": 148, \"No. inseason\": 10, \"episode_title\": \"\\\"The Bittersweet Science\\\"\", \"episode_director\": \"Rob Hardy\", \"episode_writer\": \"Janine Sherman Barrois\", \"episode_airdate\": \"2011-12-14\", \"Prod.code\": 710, \"U.S. viewers(millions)\": \"12.88[148]\"}, {\"No.overall\": 149, \"No. inseason\": 11, \"episode_title\": \"\\\"True Genius\\\"\", \"episode_director\": \"Glenn Kershaw\", \"episode_writer\": \"Sharon Lee Watson\", \"episode_airdate\": \"2012-01-18\", \"Prod.code\": 711, \"U.S. viewers(millions)\": \"13.00[149]\"}, {\"No.overall\": 150, \"No. inseason\": 12, \"episode_title\": \"\\\"Unknown Subject\\\"\", \"episode_director\": \"Michael Lange\", \"episode_writer\": \"Breen Frazier\", \"episode_airdate\": \"2012-01-25\", \"Prod.code\": 712, \"U.S. viewers(millions)\": \"13.82[150]\"}, {\"No.overall\": 151, \"No. inseason\": 13, \"episode_title\": \"\\\"Snake Eyes\\\"\", \"episode_director\": \"Doug Aarniokoski\", \"episode_writer\": \"Bruce Zimmerman\", \"episode_airdate\": \"2012-02-08\", \"Prod.code\": 713, \"U.S. viewers(millions)\": \"13.31[151]\"}, {\"No.overall\": 152, \"No. inseason\": 14, \"episode_title\": \"\\\"Closing Time\\\"\", \"episode_director\": \"Jesse Warn\", \"episode_writer\": \"Rick Dunkle\", \"episode_airdate\": \"2012-02-15\", \"Prod.code\": 714, \"U.S. viewers(millions)\": \"12.19[152]\"}, {\"No.overall\": 153, \"No. inseason\": 15, \"episode_title\": \"\\\"A Thin Line\\\"\", \"episode_director\": \"Michael Watkins\", \"episode_writer\": \"Virgil Williams\", \"episode_airdate\": \"2012-02-22\", \"Prod.code\": 715, \"U.S. viewers(millions)\": \"12.78[153]\"}, {\"No.overall\": 154, \"No. inseason\": 16, \"episode_title\": \"\\\"A Family Affair\\\"\", \"episode_director\": \"Rob Spera\", \"episode_writer\": \"Kimberly Ann Harrison\", \"episode_airdate\": \"2012-02-29\", \"Prod.code\": 716, \"U.S. viewers(millions)\": \"12.54[154]\"}, {\"No.overall\": 155, \"No. inseason\": 17, \"episode_title\": \"\\\"I Love You, Tommy Brown\\\"\", \"episode_director\": \"John Terlesky\", \"episode_writer\": \"Janine Sherman Barrois\", \"episode_airdate\": \"2012-03-14\", \"Prod.code\": 718, \"U.S. viewers(millions)\": \"11.43[155]\"}, {\"No.overall\": 156, \"No. inseason\": 18, \"episode_title\": \"\\\"Foundation\\\"\", \"episode_director\": \"Dermott Downs\", \"episode_writer\": \"Jim Clemente\", \"episode_airdate\": \"2012-03-21\", \"Prod.code\": 717, \"U.S. viewers(millions)\": \"12.09[156]\"}, {\"No.overall\": 157, \"No. inseason\": 19, \"episode_title\": \"\\\"Heathridge Manor\\\"\", \"episode_director\": \"Matthew Gray Gubler\", \"episode_writer\": \"Sharon Lee Watson\", \"episode_airdate\": \"2012-04-04\", \"Prod.code\": 719, \"U.S. viewers(millions)\": \"11.34[157]\"}, {\"No.overall\": 158, \"No. inseason\": 20, \"episode_title\": \"\\\"The Company\\\"\", \"episode_director\": \"Nelson McCormick\", \"episode_writer\": \"Breen Frazier\", \"episode_airdate\": \"2012-04-11\", \"Prod.code\": 720, \"U.S. viewers(millions)\": \"11.81[158]\"}, {\"No.overall\": 159, \"No. inseason\": 21, \"episode_title\": \"\\\"Divining Rod\\\"\", \"episode_director\": \"Doug Aarniokoski\", \"episode_writer\": \"Bruce Zimmerman\", \"episode_airdate\": \"2012-05-02\", \"Prod.code\": 721, \"U.S. viewers(millions)\": \"11.47[158]\"}, {\"No.overall\": 160, \"No. inseason\": 22, \"episode_title\": \"\\\"Profiling 101\\\"\", \"episode_director\": \"F\\u00e9lix Alcal\\u00e1\", \"episode_writer\": \"Virgil Williams\", \"episode_airdate\": \"2012-05-09\", \"Prod.code\": 722, \"U.S. viewers(millions)\": \"11.62[159]\"}, {\"No.overall\": 161, \"No. inseason\": 23, \"episode_title\": \"\\\"Hit\\\"\", \"episode_director\": \"Michael Lange\", \"episode_writer\": \"Rick Dunkle\", \"episode_airdate\": \"2012-05-16\", \"Prod.code\": 723, \"U.S. viewers(millions)\": \"13.68[160]\"}, {\"No.overall\": 162, \"No. inseason\": 24, \"episode_title\": \"\\\"Run\\\"\", \"episode_director\": \"Glenn Kershaw\", \"episode_writer\": \"Erica Messer\", \"episode_airdate\": \"2012-05-16\", \"Prod.code\": 724, \"U.S. viewers(millions)\": \"13.68[160]\"}, {\"No.overall\": 163, \"No. inseason\": 1, \"episode_title\": \"\\\"The Silencer\\\"\", \"episode_director\": \"Glenn Kershaw\", \"episode_writer\": \"Erica Messer\", \"episode_airdate\": \"2012-09-26\", \"Prod.code\": 801, \"U.S. viewers(millions)\": \"11.73[161]\"}, {\"No.overall\": 164, \"No. inseason\": 2, \"episode_title\": \"\\\"The Pact\\\"\", \"episode_director\": \"Karen Gaviola\", \"episode_writer\": \"Janine Sherman Barrois\", \"episode_airdate\": \"2012-10-10\", \"Prod.code\": 802, \"U.S. viewers(millions)\": \"11.49[162]\"}, {\"No.overall\": 165, \"No. inseason\": 3, \"episode_title\": \"\\\"Through the Looking Glass\\\"\", \"episode_director\": \"Dermott Downs\", \"episode_writer\": \"Sharon Lee Watson\", \"episode_airdate\": \"2012-10-17\", \"Prod.code\": 803, \"U.S. viewers(millions)\": \"11.81[163]\"}, {\"No.overall\": 166, \"No. inseason\": 4, \"episode_title\": \"\\\"God Complex\\\"\", \"episode_director\": \"Larry Teng\", \"episode_writer\": \"Breen Frazier\", \"episode_airdate\": \"2012-10-24\", \"Prod.code\": 804, \"U.S. viewers(millions)\": \"11.61[164]\"}, {\"No.overall\": 167, \"No. inseason\": 5, \"episode_title\": \"\\\"The Good Earth\\\"\", \"episode_director\": \"John Terlesky\", \"episode_writer\": \"Bruce Zimmerman\", \"episode_airdate\": \"2012-10-31\", \"Prod.code\": 805, \"U.S. viewers(millions)\": \"11.99[165]\"}, {\"No.overall\": 168, \"No. inseason\": 6, \"episode_title\": \"\\\"The Apprenticeship\\\"\", \"episode_director\": \"Rob Bailey\", \"episode_writer\": \"Virgil Williams\", \"episode_airdate\": \"2012-11-07\", \"Prod.code\": 806, \"U.S. viewers(millions)\": \"12.09[166]\"}, {\"No.overall\": 169, \"No. inseason\": 7, \"episode_title\": \"\\\"The Fallen\\\"\", \"episode_director\": \"Doug Aarniokoski\", \"episode_writer\": \"Teleplay by\\u200a: Rick DunkleStory by\\u200a: Rick Dunkle & Danny Ramm\", \"episode_airdate\": \"2012-11-14\", \"Prod.code\": 807, \"U.S. viewers(millions)\": \"12.20[167]\"}, {\"No.overall\": 170, \"No. inseason\": 8, \"episode_title\": \"\\\"The Wheels on the Bus\\u2026\\\"\", \"episode_director\": \"Rob Hardy\", \"episode_writer\": \"Kimberly Ann Harrison\", \"episode_airdate\": \"2012-11-21\", \"Prod.code\": 808, \"U.S. viewers(millions)\": \"11.53[168]\"}, {\"No.overall\": 171, \"No. inseason\": 9, \"episode_title\": \"\\\"Magnificent Light\\\"\", \"episode_director\": \"John T. Kretchmer\", \"episode_writer\": \"Sharon Lee Watson\", \"episode_airdate\": \"2012-11-28\", \"Prod.code\": 809, \"U.S. viewers(millions)\": \"12.37[169]\"}, {\"No.overall\": 172, \"No. inseason\": 10, \"episode_title\": \"\\\"The Lesson\\\"\", \"episode_director\": \"Matthew Gray Gubler\", \"episode_writer\": \"Janine Sherman Barrois\", \"episode_airdate\": \"2012-12-05\", \"Prod.code\": 810, \"U.S. viewers(millions)\": \"11.33[170]\"}, {\"No.overall\": 173, \"No. inseason\": 11, \"episode_title\": \"\\\"Perennials\\\"\", \"episode_director\": \"Michael Lange\", \"episode_writer\": \"Bruce Zimmerman\", \"episode_airdate\": \"2012-12-12\", \"Prod.code\": 811, \"U.S. viewers(millions)\": \"12.01[171]\"}, {\"No.overall\": 174, \"No. inseason\": 12, \"episode_title\": \"\\\"Zugzwang\\\"\", \"episode_director\": \"Jesse Warn\", \"episode_writer\": \"Breen Frazier\", \"episode_airdate\": \"2013-01-16\", \"Prod.code\": 812, \"U.S. viewers(millions)\": \"12.64[172]\"}, {\"No.overall\": 175, \"No. inseason\": 13, \"episode_title\": \"\\\"Magnum Opus\\\"\", \"episode_director\": \"Glenn Kershaw\", \"episode_writer\": \"Jason J. Bernero\", \"episode_airdate\": \"2013-01-23\", \"Prod.code\": 813, \"U.S. viewers(millions)\": \"11.84[173]\"}, {\"No.overall\": 176, \"No. inseason\": 14, \"episode_title\": \"\\\"All That Remains\\\"\", \"episode_director\": \"Thomas Gibson\", \"episode_writer\": \"Erica Messer\", \"episode_airdate\": \"2013-02-06\", \"Prod.code\": 815, \"U.S. viewers(millions)\": \"11.98[174]\"}, {\"No.overall\": 177, \"No. inseason\": 15, \"episode_title\": \"\\\"Broken\\\"\", \"episode_director\": \"Larry Teng\", \"episode_writer\": \"Rick Dunkle\", \"episode_airdate\": \"2013-02-20\", \"Prod.code\": 814, \"U.S. viewers(millions)\": \"10.69[175]\"}, {\"No.overall\": 178, \"No. inseason\": 16, \"episode_title\": \"\\\"Carbon Copy\\\"\", \"episode_director\": \"Rob Hardy\", \"episode_writer\": \"Virgil Williams\", \"episode_airdate\": \"2013-02-27\", \"Prod.code\": 816, \"U.S. viewers(millions)\": \"10.33[176]\"}, {\"No.overall\": 179, \"No. inseason\": 17, \"episode_title\": \"\\\"The Gathering\\\"\", \"episode_director\": \"Michael Lange\", \"episode_writer\": \"Kimberly Ann Harrison\", \"episode_airdate\": \"2013-03-20\", \"Prod.code\": 817, \"U.S. viewers(millions)\": \"11.58[177]\"}, {\"No.overall\": 180, \"No. inseason\": 18, \"episode_title\": \"\\\"Restoration\\\"\", \"episode_director\": \"F\\u00e9lix Alcal\\u00e1\", \"episode_writer\": \"Jim Clemente & Janine Sherman Barrois\", \"episode_airdate\": \"2013-04-03\", \"Prod.code\": 818, \"U.S. viewers(millions)\": \"10.79[178]\"}, {\"No.overall\": 181, \"No. inseason\": 19, \"episode_title\": \"\\\"Pay It Forward\\\"\", \"episode_director\": \"John Terlesky\", \"episode_writer\": \"Bruce Zimmerman\", \"episode_airdate\": \"2013-04-10\", \"Prod.code\": 819, \"U.S. viewers(millions)\": \"11.47[179]\"}, {\"No.overall\": 182, \"No. inseason\": 20, \"episode_title\": \"\\\"Alchemy\\\"\", \"episode_director\": \"Matthew Gray Gubler\", \"episode_writer\": \"Sharon Lee Watson\", \"episode_airdate\": \"2013-05-01\", \"Prod.code\": 820, \"U.S. viewers(millions)\": \"10.13[180]\"}, {\"No.overall\": 183, \"No. inseason\": 21, \"episode_title\": \"\\\"Nanny Dearest\\\"\", \"episode_director\": \"Doug Aarniokoski\", \"episode_writer\": \"Virgil Williams\", \"episode_airdate\": \"2013-05-08\", \"Prod.code\": 821, \"U.S. viewers(millions)\": \"10.08[181]\"}, {\"No.overall\": 184, \"No. inseason\": 22, \"episode_title\": \"\\\"#6\\\"\", \"episode_director\": \"Karen Gaviola\", \"episode_writer\": \"Breen Frazier\", \"episode_airdate\": \"2013-05-15\", \"Prod.code\": 822, \"U.S. viewers(millions)\": \"10.56[182]\"}, {\"No.overall\": 185, \"No. inseason\": 23, \"episode_title\": \"\\\"Brothers Hotchner\\\"\", \"episode_director\": \"Rob Bailey\", \"episode_writer\": \"Rick Dunkle\", \"episode_airdate\": \"2013-05-22\", \"Prod.code\": 823, \"U.S. viewers(millions)\": \"11.01[183]\"}, {\"No.overall\": 186, \"No. inseason\": 24, \"episode_title\": \"\\\"The Replicator\\\"\", \"episode_director\": \"Glenn Kershaw\", \"episode_writer\": \"Erica Messer\", \"episode_airdate\": \"2013-05-22\", \"Prod.code\": 824, \"U.S. viewers(millions)\": \"11.01[183]\"}, {\"No.overall\": 187, \"No. inseason\": 1, \"episode_title\": \"\\\"The Inspiration\\\"\", \"episode_director\": \"Glenn Kershaw\", \"episode_writer\": \"Janine Sherman Barrois\", \"episode_airdate\": \"2013-09-25\", \"Prod.code\": 901, \"U.S. viewers(millions)\": \"11.27[184]\"}, {\"No.overall\": 188, \"No. inseason\": 2, \"episode_title\": \"\\\"The Inspired\\\"\", \"episode_director\": \"Larry Teng\", \"episode_writer\": \"Breen Frazier\", \"episode_airdate\": \"2013-10-02\", \"Prod.code\": 902, \"U.S. viewers(millions)\": \"11.12[185]\"}, {\"No.overall\": 189, \"No. inseason\": 3, \"episode_title\": \"\\\"Final Shot\\\"\", \"episode_director\": \"Bethany Rooney\", \"episode_writer\": \"Sharon Lee Watson\", \"episode_airdate\": \"2013-10-09\", \"Prod.code\": 904, \"U.S. viewers(millions)\": \"10.98[186]\"}, {\"No.overall\": 190, \"No. inseason\": 4, \"episode_title\": \"\\\"To Bear Witness\\\"\", \"episode_director\": \"Rob Bailey\", \"episode_writer\": \"Erica Messer\", \"episode_airdate\": \"2013-10-16\", \"Prod.code\": 903, \"U.S. viewers(millions)\": \"11.06[187]\"}, {\"No.overall\": 191, \"No. inseason\": 5, \"episode_title\": \"\\\"Route 66\\\"\", \"episode_director\": \"Doug Aarniokoski\", \"episode_writer\": \"Virgil Williams\", \"episode_airdate\": \"2013-10-23\", \"Prod.code\": 905, \"U.S. viewers(millions)\": \"11.55[188]\"}, {\"No.overall\": 192, \"No. inseason\": 6, \"episode_title\": \"\\\"In the Blood\\\"\", \"episode_director\": \"Michael Lange\", \"episode_writer\": \"Bruce Zimmerman\", \"episode_airdate\": \"2013-10-30\", \"Prod.code\": 906, \"U.S. viewers(millions)\": \"10.64[189]\"}, {\"No.overall\": 193, \"No. inseason\": 7, \"episode_title\": \"\\\"Gatekeeper\\\"\", \"episode_director\": \"Matthew Gray Gubler\", \"episode_writer\": \"Rick Dunkle\", \"episode_airdate\": \"2013-11-06\", \"Prod.code\": 907, \"U.S. viewers(millions)\": \"9.70[190]\"}, {\"No.overall\": 194, \"No. inseason\": 8, \"episode_title\": \"\\\"The Return\\\"\", \"episode_director\": \"John Terlesky\", \"episode_writer\": \"Kimberly Ann Harrison\", \"episode_airdate\": \"2013-11-13\", \"Prod.code\": 908, \"U.S. viewers(millions)\": \"11.63[191]\"}, {\"No.overall\": 195, \"No. inseason\": 9, \"episode_title\": \"\\\"Strange Fruit\\\"\", \"episode_director\": \"Constantine Makris\", \"episode_writer\": \"Janine Sherman Barrois\", \"episode_airdate\": \"2013-11-20\", \"Prod.code\": 909, \"U.S. viewers(millions)\": \"12.40[192]\"}, {\"No.overall\": 196, \"No. inseason\": 10, \"episode_title\": \"\\\"The Caller\\\"\", \"episode_director\": \"Rob Bailey\", \"episode_writer\": \"Sharon Lee Watson\", \"episode_airdate\": \"2013-11-27\", \"Prod.code\": 910, \"U.S. viewers(millions)\": \"11.10[193]\"}, {\"No.overall\": 197, \"No. inseason\": 11, \"episode_title\": \"\\\"Bully\\\"\", \"episode_director\": \"Glenn Kershaw\", \"episode_writer\": \"Virgil Williams\", \"episode_airdate\": \"2013-12-11\", \"Prod.code\": 911, \"U.S. viewers(millions)\": \"11.19[194]\"}, {\"No.overall\": 198, \"No. inseason\": 12, \"episode_title\": \"\\\"The Black Queen\\\"\", \"episode_director\": \"Tawnia McKiernan\", \"episode_writer\": \"Breen Frazier\", \"episode_airdate\": \"2014-01-15\", \"Prod.code\": 912, \"U.S. viewers(millions)\": \"10.35[195]\"}, {\"No.overall\": 199, \"No. inseason\": 13, \"episode_title\": \"\\\"The Road Home\\\"\", \"episode_director\": \"Joe Mantegna\", \"episode_writer\": \"Bruce Zimmerman\", \"episode_airdate\": \"2014-01-22\", \"Prod.code\": 913, \"U.S. viewers(millions)\": \"10.35[196]\"}, {\"No.overall\": 200, \"No. inseason\": 14, \"episode_title\": \"\\\"200\\\"\", \"episode_director\": \"Larry Teng\", \"episode_writer\": \"Rick Dunkle\", \"episode_airdate\": \"2014-02-05\", \"Prod.code\": 914, \"U.S. viewers(millions)\": \"12.92[197]\"}, {\"No.overall\": 201, \"No. inseason\": 15, \"episode_title\": \"\\\"Mr. & Mrs. Anderson\\\"\", \"episode_director\": \"F\\u00e9lix Alcal\\u00e1\", \"episode_writer\": \"Kimberly Ann Harrison\", \"episode_airdate\": \"2014-02-19\", \"Prod.code\": 915, \"U.S. viewers(millions)\": \"10.06[198]\"}, {\"No.overall\": 202, \"No. inseason\": 16, \"episode_title\": \"\\\"Gabby\\\"\", \"episode_director\": \"Thomas Gibson\", \"episode_writer\": \"Jim Clemente & Erica Messer\", \"episode_airdate\": \"2014-02-26\", \"Prod.code\": 916, \"U.S. viewers(millions)\": \"9.42[199]\"}, {\"No.overall\": 203, \"No. inseason\": 17, \"episode_title\": \"\\\"Persuasion\\\"\", \"episode_director\": \"Rob Lieberman\", \"episode_writer\": \"Sharon Lee Watson\", \"episode_airdate\": \"2014-03-05\", \"Prod.code\": 917, \"U.S. viewers(millions)\": \"11.42[200]\"}, {\"No.overall\": 204, \"No. inseason\": 18, \"episode_title\": \"\\\"Rabid\\\"\", \"episode_director\": \"Doug Aarniokoski\", \"episode_writer\": \"Virgil Williams\", \"episode_airdate\": \"2014-03-12\", \"Prod.code\": 918, \"U.S. viewers(millions)\": \"10.74[201]\"}, {\"No.overall\": 205, \"No. inseason\": 19, \"episode_title\": \"\\\"The Edge of Winter\\\"\", \"episode_director\": \"Hanelle Culpepper\", \"episode_writer\": \"Janine Sherman Barrois\", \"episode_airdate\": \"2014-03-19\", \"Prod.code\": 919, \"U.S. viewers(millions)\": \"10.14[202]\"}, {\"No.overall\": 206, \"No. inseason\": 20, \"episode_title\": \"\\\"Blood Relations\\\"\", \"episode_director\": \"Matthew Gray Gubler\", \"episode_writer\": \"Breen Frazier\", \"episode_airdate\": \"2014-04-02\", \"Prod.code\": 920, \"U.S. viewers(millions)\": \"10.47[203]\"}, {\"No.overall\": 207, \"No. inseason\": 21, \"episode_title\": \"\\\"What Happens In Mecklinburg\\u2026\\\"\", \"episode_director\": \"Rob Hardy\", \"episode_writer\": \"Ticona S. Joy\", \"episode_airdate\": \"2014-04-09\", \"Prod.code\": 921, \"U.S. viewers(millions)\": \"9.85[204]\"}, {\"No.overall\": 208, \"No. inseason\": 22, \"episode_title\": \"\\\"Fatal\\\"\", \"episode_director\": \"Larry Teng\", \"episode_writer\": \"Bruce Zimmerman\", \"episode_airdate\": \"2014-04-30\", \"Prod.code\": 922, \"U.S. viewers(millions)\": \"10.30[205]\"}, {\"No.overall\": 209, \"No. inseason\": 23, \"episode_title\": \"\\\"Angels\\\"\", \"episode_director\": \"Rob Bailey\", \"episode_writer\": \"Rick Dunkle & Breen Frazier & Janine Sherman Barrois\", \"episode_airdate\": \"2014-05-07\", \"Prod.code\": 923, \"U.S. viewers(millions)\": \"10.52[206]\"}, {\"No.overall\": 210, \"No. inseason\": 24, \"episode_title\": \"\\\"Demons\\\"\", \"episode_director\": \"Glenn Kershaw\", \"episode_writer\": \"Erica Messer\", \"episode_airdate\": \"2014-05-14\", \"Prod.code\": 924, \"U.S. viewers(millions)\": \"12.03[207]\"}, {\"No.overall\": 211, \"No. inseason\": 1, \"episode_title\": \"\\\"X\\\"\", \"episode_director\": \"Glenn Kershaw\", \"episode_writer\": \"Erica Messer\", \"episode_airdate\": \"2014-10-01\", \"Prod.code\": 1001, \"U.S. viewers(millions)\": \"11.74[208]\"}, {\"No.overall\": 212, \"No. inseason\": 2, \"episode_title\": \"\\\"Burn\\\"\", \"episode_director\": \"Karen Gaviola\", \"episode_writer\": \"Janine Sherman Barrois\", \"episode_airdate\": \"2014-10-08\", \"Prod.code\": 1002, \"U.S. viewers(millions)\": \"10.57[209]\"}, {\"No.overall\": 213, \"No. inseason\": 3, \"episode_title\": \"\\\"A Thousand Suns\\\"\", \"episode_director\": \"Rob Bailey\", \"episode_writer\": \"Sharon Lee Watson\", \"episode_airdate\": \"2014-10-15\", \"Prod.code\": 1003, \"U.S. viewers(millions)\": \"10.89[210]\"}, {\"No.overall\": 214, \"No. inseason\": 4, \"episode_title\": \"\\\"The Itch\\\"\", \"episode_director\": \"Larry Teng\", \"episode_writer\": \"Breen Frazier\", \"episode_airdate\": \"2014-10-22\", \"Prod.code\": 1004, \"U.S. viewers(millions)\": \"9.92[211]\"}, {\"No.overall\": 215, \"No. inseason\": 5, \"episode_title\": \"\\\"Boxed In\\\"\", \"episode_director\": \"Thomas Gibson\", \"episode_writer\": \"Virgil Williams\", \"episode_airdate\": \"2014-10-29\", \"Prod.code\": 1006, \"U.S. viewers(millions)\": \"10.48[212]\"}, {\"No.overall\": 216, \"No. inseason\": 6, \"episode_title\": \"\\\"If the Shoe Fits\\\"\", \"episode_director\": \"Bethany Rooney\", \"episode_writer\": \"Bruce Zimmerman\", \"episode_airdate\": \"2014-11-05\", \"Prod.code\": 1005, \"U.S. viewers(millions)\": \"9.78[213]\"}, {\"No.overall\": 217, \"No. inseason\": 7, \"episode_title\": \"\\\"Hashtag\\\"\", \"episode_director\": \"Constantine Makris\", \"episode_writer\": \"Rick Dunkle\", \"episode_airdate\": \"2014-11-12\", \"Prod.code\": 1007, \"U.S. viewers(millions)\": \"10.35[214]\"}, {\"No.overall\": 218, \"No. inseason\": 8, \"episode_title\": \"\\\"The Boys of Sudworth Place\\\"\", \"episode_director\": \"Laura Belsey\", \"episode_writer\": \"Kimberly Ann Harrison\", \"episode_airdate\": \"2014-11-19\", \"Prod.code\": 1008, \"U.S. viewers(millions)\": \"10.68[215]\"}, {\"No.overall\": 219, \"No. inseason\": 9, \"episode_title\": \"\\\"Fate\\\"\", \"episode_director\": \"Rob Bailey\", \"episode_writer\": \"Janine Sherman Barrois\", \"episode_airdate\": \"2014-11-26\", \"Prod.code\": 1009, \"U.S. viewers(millions)\": \"11.00[216]\"}, {\"No.overall\": 220, \"No. inseason\": 10, \"episode_title\": \"\\\"Amelia Porter\\\"\", \"episode_director\": \"Alrick Riley\", \"episode_writer\": \"Sharon Lee Watson\", \"episode_airdate\": \"2014-12-10\", \"Prod.code\": 1010, \"U.S. viewers(millions)\": \"10.12[217]\"}, {\"No.overall\": 221, \"No. inseason\": 11, \"episode_title\": \"\\\"The Forever People\\\"\", \"episode_director\": \"Tawnia McKiernan\", \"episode_writer\": \"Breen Frazier\", \"episode_airdate\": \"2015-01-14\", \"Prod.code\": 1011, \"U.S. viewers(millions)\": \"10.31[218]\"}, {\"No.overall\": 222, \"No. inseason\": 12, \"episode_title\": \"\\\"Anonymous\\\"\", \"episode_director\": \"Joe Mantegna\", \"episode_writer\": \"Teleplay by\\u200a: Bruce ZimmermanStory by\\u200a: Danny Ramm & Bruce Zimmerman\", \"episode_airdate\": \"2015-01-21\", \"Prod.code\": 1012, \"U.S. viewers(millions)\": \"10.29[219]\"}, {\"No.overall\": 223, \"No. inseason\": 13, \"episode_title\": \"\\\"Nelson's Sparrow\\\"\", \"episode_director\": \"Glenn Kershaw\", \"episode_writer\": \"Kirsten Vangsness & Erica Messer\", \"episode_airdate\": \"2015-01-28\", \"Prod.code\": 1013, \"U.S. viewers(millions)\": \"10.70[220]\"}, {\"No.overall\": 224, \"No. inseason\": 14, \"episode_title\": \"\\\"Hero Worship\\\"\", \"episode_director\": \"Larry Teng\", \"episode_writer\": \"Rick Dunkle\", \"episode_airdate\": \"2015-02-04\", \"Prod.code\": 1014, \"U.S. viewers(millions)\": \"10.48[221]\"}, {\"No.overall\": 225, \"No. inseason\": 15, \"episode_title\": \"\\\"Scream\\\"\", \"episode_director\": \"Hanelle Culpepper\", \"episode_writer\": \"Kimberly Ann Harrison\", \"episode_airdate\": \"2015-02-11\", \"Prod.code\": 1015, \"U.S. viewers(millions)\": \"9.89[222]\"}, {\"No.overall\": 226, \"No. inseason\": 16, \"episode_title\": \"\\\"Lockdown\\\"\", \"episode_director\": \"Thomas Gibson\", \"episode_writer\": \"Virgil Williams\", \"episode_airdate\": \"2015-03-04\", \"Prod.code\": 1016, \"U.S. viewers(millions)\": \"10.37[223]\"}, {\"No.overall\": 227, \"No. inseason\": 17, \"episode_title\": \"\\\"Breath Play\\\"\", \"episode_director\": \"Hanelle Culpepper\", \"episode_writer\": \"Erik Stiller\", \"episode_airdate\": \"2015-03-11\", \"Prod.code\": 1017, \"U.S. viewers(millions)\": \"10.32[224]\"}, {\"No.overall\": 228, \"No. inseason\": 18, \"episode_title\": \"\\\"Rock Creek Park\\\"\", \"episode_director\": \"F\\u00e9lix Alcal\\u00e1\", \"episode_writer\": \"Sharon Lee Watson\", \"episode_airdate\": \"2015-03-25\", \"Prod.code\": 1018, \"U.S. viewers(millions)\": \"10.08[225]\"}, {\"No.overall\": 229, \"No. inseason\": 19, \"episode_title\": \"\\\"Beyond Borders\\\"\", \"episode_director\": \"Glenn Kershaw\", \"episode_writer\": \"Erica Messer\", \"episode_airdate\": \"2015-04-08\", \"Prod.code\": 1019, \"U.S. viewers(millions)\": \"10.39[226]\"}, {\"No.overall\": 230, \"No. inseason\": 20, \"episode_title\": \"\\\"A Place at the Table\\\"\", \"episode_director\": \"Laura Belsey\", \"episode_writer\": \"Bruce Zimmerman\", \"episode_airdate\": \"2015-04-15\", \"Prod.code\": 1020, \"U.S. viewers(millions)\": \"10.37[227]\"}, {\"No.overall\": 231, \"No. inseason\": 21, \"episode_title\": \"\\\"Mr. Scratch\\\"\", \"episode_director\": \"Matthew Gray Gubler\", \"episode_writer\": \"Breen Frazier\", \"episode_airdate\": \"2015-04-22\", \"Prod.code\": 1021, \"U.S. viewers(millions)\": \"10.06[228]\"}, {\"No.overall\": 232, \"No. inseason\": 22, \"episode_title\": \"\\\"Protection\\\"\", \"episode_director\": \"Tawnia McKiernan\", \"episode_writer\": \"Virgil Williams\", \"episode_airdate\": \"2015-04-29\", \"Prod.code\": 1022, \"U.S. viewers(millions)\": \"8.72[229]\"}, {\"No.overall\": 233, \"No. inseason\": 23, \"episode_title\": \"\\\"The Hunt\\\"\", \"episode_director\": \"Glenn Kershaw\", \"episode_writer\": \"Jim Clemente & Janine Sherman Barrois\", \"episode_airdate\": \"2015-05-06\", \"Prod.code\": 1023, \"U.S. viewers(millions)\": \"9.61[230]\"}, {\"No.overall\": 234, \"No. inseason\": 1, \"episode_title\": \"\\\"The Job\\\"\", \"episode_director\": \"Glenn Kershaw\", \"episode_writer\": \"Breen Frazier\", \"episode_airdate\": \"2015-09-30\", \"Prod.code\": 1101, \"U.S. viewers(millions)\": \"10.08[231]\"}, {\"No.overall\": 235, \"No. inseason\": 2, \"episode_title\": \"\\\"The Witness\\\"\", \"episode_director\": \"John Terlesky\", \"episode_writer\": \"Sharon Lee Watson\", \"episode_airdate\": \"2015-10-07\", \"Prod.code\": 1102, \"U.S. viewers(millions)\": \"9.08[232]\"}, {\"No.overall\": 236, \"No. inseason\": 3, \"episode_title\": \"\\\"'Til Death Do Us Part\\\"\", \"episode_director\": \"Joe Mantegna\", \"episode_writer\": \"Karen Maser\", \"episode_airdate\": \"2015-10-14\", \"Prod.code\": 1103, \"U.S. viewers(millions)\": \"9.08[233]\"}, {\"No.overall\": 237, \"No. inseason\": 4, \"episode_title\": \"\\\"Outlaw\\\"\", \"episode_director\": \"Larry Teng\", \"episode_writer\": \"Virgil Williams\", \"episode_airdate\": \"2015-10-21\", \"Prod.code\": 1104, \"U.S. viewers(millions)\": \"8.47[234]\"}, {\"No.overall\": 238, \"No. inseason\": 5, \"episode_title\": \"\\\"The Night Watch\\\"\", \"episode_director\": \"Thomas Gibson\", \"episode_writer\": \"Bruce Zimmerman\", \"episode_airdate\": \"2015-10-28\", \"Prod.code\": 1105, \"U.S. viewers(millions)\": \"7.64[235]\"}, {\"No.overall\": 239, \"No. inseason\": 6, \"episode_title\": \"\\\"Pariahville\\\"\", \"episode_director\": \"F\\u00e9lix Enr\\u00edquez Alcal\\u00e1\", \"episode_writer\": \"Erik Stiller\", \"episode_airdate\": \"2015-11-04\", \"Prod.code\": 1106, \"U.S. viewers(millions)\": \"7.79[236]\"}, {\"No.overall\": 240, \"No. inseason\": 7, \"episode_title\": \"\\\"Target Rich\\\"\", \"episode_director\": \"Glenn Kershaw\", \"episode_writer\": \"Jim Clemente\", \"episode_airdate\": \"2015-11-11\", \"Prod.code\": 1107, \"U.S. viewers(millions)\": \"8.51[237]\"}, {\"No.overall\": 241, \"No. inseason\": 8, \"episode_title\": \"\\\"Awake\\\"\", \"episode_director\": \"Christoph Schrewe\", \"episode_writer\": \"Kimberly Ann Harrison\", \"episode_airdate\": \"2015-11-18\", \"Prod.code\": 1108, \"U.S. viewers(millions)\": \"8.14[238]\"}, {\"No.overall\": 242, \"No. inseason\": 9, \"episode_title\": \"\\\"Internal Affairs\\\"\", \"episode_director\": \"Diana C. Valentine\", \"episode_writer\": \"Sharon Lee Watson\", \"episode_airdate\": \"2015-12-02\", \"Prod.code\": 1109, \"U.S. viewers(millions)\": \"8.75[239]\"}, {\"No.overall\": 243, \"No. inseason\": 10, \"episode_title\": \"\\\"Future Perfect\\\"\", \"episode_director\": \"Laura Belsey\", \"episode_writer\": \"Bruce Zimmerman\", \"episode_airdate\": \"2015-12-09\", \"Prod.code\": 1110, \"U.S. viewers(millions)\": \"9.27[240]\"}, {\"No.overall\": 244, \"No. inseason\": 11, \"episode_title\": \"\\\"Entropy\\\"\", \"episode_director\": \"Heather Cappiello\", \"episode_writer\": \"Breen Frazier\", \"episode_airdate\": \"2016-01-13\", \"Prod.code\": 1111, \"U.S. viewers(millions)\": \"9.33[241]\"}, {\"No.overall\": 245, \"No. inseason\": 12, \"episode_title\": \"\\\"Drive\\\"\", \"episode_director\": \"Tawnia McKiernan\", \"episode_writer\": \"Karen Maser\", \"episode_airdate\": \"2016-01-20\", \"Prod.code\": 1112, \"U.S. viewers(millions)\": \"9.25[242]\"}, {\"No.overall\": 246, \"No. inseason\": 13, \"episode_title\": \"\\\"The Bond\\\"\", \"episode_director\": \"Hanelle M. Culpepper\", \"episode_writer\": \"Kimberly Ann Harrison\", \"episode_airdate\": \"2016-01-27\", \"Prod.code\": 1113, \"U.S. viewers(millions)\": \"9.22[243]\"}, {\"No.overall\": 247, \"No. inseason\": 14, \"episode_title\": \"\\\"Hostage\\\"\", \"episode_director\": \"Bethany Rooney\", \"episode_writer\": \"Virgil Williams\", \"episode_airdate\": \"2016-02-10\", \"Prod.code\": 1114, \"U.S. viewers(millions)\": \"8.97[244]\"}, {\"No.overall\": 248, \"No. inseason\": 15, \"episode_title\": \"\\\"A Badge and a Gun\\\"\", \"episode_director\": \"Rob Bailey\", \"episode_writer\": \"Jim Clemente\", \"episode_airdate\": \"2016-02-24\", \"Prod.code\": 1115, \"U.S. viewers(millions)\": \"8.64[245]\"}, {\"No.overall\": 249, \"No. inseason\": 16, \"episode_title\": \"\\\"Derek\\\"\", \"episode_director\": \"Thomas Gibson\", \"episode_writer\": \"Breen Frazier\", \"episode_airdate\": \"2016-03-02\", \"Prod.code\": 1116, \"U.S. viewers(millions)\": \"9.32[246]\"}, {\"No.overall\": 250, \"No. inseason\": 17, \"episode_title\": \"\\\"The Sandman\\\"\", \"episode_director\": \"Joe Mantegna\", \"episode_writer\": \"Bruce Zimmerman\", \"episode_airdate\": \"2016-03-16\", \"Prod.code\": 1117, \"U.S. viewers(millions)\": \"9.80[247]\"}, {\"No.overall\": 251, \"No. inseason\": 18, \"episode_title\": \"\\\"A Beautiful Disaster\\\"\", \"episode_director\": \"Matthew Gray Gubler\", \"episode_writer\": \"Kirsten Vangsness & Erica Messer\", \"episode_airdate\": \"2016-03-23\", \"Prod.code\": 1118, \"U.S. viewers(millions)\": \"10.94[248]\"}, {\"No.overall\": 252, \"No. inseason\": 19, \"episode_title\": \"\\\"Tribute\\\"\", \"episode_director\": \"Tawnia McKiernan\", \"episode_writer\": \"Virgil Williams\", \"episode_airdate\": \"2016-03-30\", \"Prod.code\": 1119, \"U.S. viewers(millions)\": \"9.17[249]\"}, {\"No.overall\": 253, \"No. inseason\": 20, \"episode_title\": \"\\\"Inner Beauty\\\"\", \"episode_director\": \"Alec Smight\", \"episode_writer\": \"Haben Merker\", \"episode_airdate\": \"2016-04-13\", \"Prod.code\": 1120, \"U.S. viewers(millions)\": \"8.81[250]\"}, {\"No.overall\": 254, \"No. inseason\": 21, \"episode_title\": \"\\\"Devil's Backbone\\\"\", \"episode_director\": \"F\\u00e9lix Enr\\u00edquez Alcal\\u00e1\", \"episode_writer\": \"Sharon Lee Watson\", \"episode_airdate\": \"2016-04-20\", \"Prod.code\": 1121, \"U.S. viewers(millions)\": \"9.14[251]\"}, {\"No.overall\": 255, \"No. inseason\": 22, \"episode_title\": \"\\\"The Storm\\\"\", \"episode_director\": \"Glenn Kershaw\", \"episode_writer\": \"Erica Messer & Breen Frazier\", \"episode_airdate\": \"2016-05-04\", \"Prod.code\": 1122, \"U.S. viewers(millions)\": \"8.84[252]\"}, {\"No.overall\": 256, \"No. inseason\": 1, \"episode_title\": \"\\\"The Crimson King\\\"\", \"episode_director\": \"Glenn Kershaw\", \"episode_writer\": \"Breen Frazier\", \"episode_airdate\": \"2016-09-28\", \"Prod.code\": 1201, \"U.S. viewers(millions)\": \"8.92[253]\"}, {\"No.overall\": 257, \"No. inseason\": 2, \"episode_title\": \"\\\"Sick Day\\\"\", \"episode_director\": \"Larry Teng\", \"episode_writer\": \"Virgil Williams\", \"episode_airdate\": \"2016-10-05\", \"Prod.code\": 1202, \"U.S. viewers(millions)\": \"7.62[254]\"}, {\"No.overall\": 258, \"No. inseason\": 3, \"episode_title\": \"\\\"Taboo\\\"\", \"episode_director\": \"Alec Smight\", \"episode_writer\": \"Karen Maser\", \"episode_airdate\": \"2016-10-12\", \"Prod.code\": 1203, \"U.S. viewers(millions)\": \"8.40[255]\"}, {\"No.overall\": 259, \"No. inseason\": 4, \"episode_title\": \"\\\"Keeper\\\"\", \"episode_director\": \"Sharat Raju\", \"episode_writer\": \"Bruce Zimmerman\", \"episode_airdate\": \"2016-10-26\", \"Prod.code\": 1204, \"U.S. viewers(millions)\": \"7.66[256]\"}, {\"No.overall\": 260, \"No. inseason\": 5, \"episode_title\": \"\\\"The Anti-Terror Squad\\\"\", \"episode_director\": \"Tawnia McKiernan\", \"episode_writer\": \"Stephanie SenGupta\", \"episode_airdate\": \"2016-11-09\", \"Prod.code\": 1205, \"U.S. viewers(millions)\": \"7.37[257]\"}, {\"No.overall\": 261, \"No. inseason\": 6, \"episode_title\": \"\\\"Elliott's Pond\\\"\", \"episode_director\": \"Matthew Gray Gubler\", \"episode_writer\": \"Erica Messer\", \"episode_airdate\": \"2016-11-16\", \"Prod.code\": 1206, \"U.S. viewers(millions)\": \"7.62[258]\"}, {\"No.overall\": 262, \"No. inseason\": 7, \"episode_title\": \"\\\"Mirror Image\\\"\", \"episode_director\": \"Joe Mantegna\", \"episode_writer\": \"Breen Frazier\", \"episode_airdate\": \"2016-11-30\", \"Prod.code\": 1207, \"U.S. viewers(millions)\": \"7.44[259]\"}, {\"No.overall\": 263, \"No. inseason\": 8, \"episode_title\": \"\\\"Scarecrow\\\"\", \"episode_director\": \"Christoph Schrewe\", \"episode_writer\": \"Karen Maser\", \"episode_airdate\": \"2016-12-07\", \"Prod.code\": 1208, \"U.S. viewers(millions)\": \"7.77[260]\"}, {\"No.overall\": 264, \"No. inseason\": 9, \"episode_title\": \"\\\"Profiling 202\\\"\", \"episode_director\": \"Rob Bailey\", \"episode_writer\": \"Virgil Williams\", \"episode_airdate\": \"2017-01-04\", \"Prod.code\": 1209, \"U.S. viewers(millions)\": \"7.27[261]\"}, {\"No.overall\": 265, \"No. inseason\": 10, \"episode_title\": \"\\\"Seek and Destroy\\\"\", \"episode_director\": \"Diana C. Valentine\", \"episode_writer\": \"Erik Stiller\", \"episode_airdate\": \"2017-01-11\", \"Prod.code\": 1210, \"U.S. viewers(millions)\": \"7.54[262]\"}, {\"No.overall\": 266, \"No. inseason\": 11, \"episode_title\": \"\\\"Surface Tension\\\"\", \"episode_director\": \"Oz Scott\", \"episode_writer\": \"Bruce Zimmerman\", \"episode_airdate\": \"2017-02-01\", \"Prod.code\": 1211, \"U.S. viewers(millions)\": \"7.45[263]\"}, {\"No.overall\": 267, \"No. inseason\": 12, \"episode_title\": \"\\\"A Good Husband\\\"\", \"episode_director\": \"Laura Belsey\", \"episode_writer\": \"Jim Clemente\", \"episode_airdate\": \"2017-02-08\", \"Prod.code\": 1212, \"U.S. viewers(millions)\": \"6.70[264]\"}, {\"No.overall\": 268, \"No. inseason\": 13, \"episode_title\": \"\\\"Spencer\\\"\", \"episode_director\": \"Glenn Kershaw\", \"episode_writer\": \"Kirsten Vangsness & Erica Messer\", \"episode_airdate\": \"2017-02-15\", \"Prod.code\": 1213, \"U.S. viewers(millions)\": \"7.34[265]\"}, {\"No.overall\": 269, \"No. inseason\": 14, \"episode_title\": \"\\\"Collision Course\\\"\", \"episode_director\": \"Alec Smight\", \"episode_writer\": \"Stephanie SenGupta\", \"episode_airdate\": \"2017-02-22\", \"Prod.code\": 1214, \"U.S. viewers(millions)\": \"7.33[266]\"}, {\"No.overall\": 270, \"No. inseason\": 15, \"episode_title\": \"\\\"Alpha Male\\\"\", \"episode_director\": \"Rob Bailey\", \"episode_writer\": \"Karen Maser\", \"episode_airdate\": \"2017-03-01\", \"Prod.code\": 1215, \"U.S. viewers(millions)\": \"6.54[267]\"}, {\"No.overall\": 271, \"No. inseason\": 16, \"episode_title\": \"\\\"Assistance Is Futile\\\"\", \"episode_director\": \"Leon Ichaso\", \"episode_writer\": \"Virgil Williams\", \"episode_airdate\": \"2017-03-15\", \"Prod.code\": 1216, \"U.S. viewers(millions)\": \"7.50[268]\"}, {\"No.overall\": 272, \"No. inseason\": 17, \"episode_title\": \"\\\"In The Dark\\\"\", \"episode_director\": \"Diana C. Valentine\", \"episode_writer\": \"Dania Bennett\", \"episode_airdate\": \"2017-03-22\", \"Prod.code\": 1217, \"U.S. viewers(millions)\": \"7.46[269]\"}, {\"No.overall\": 273, \"No. inseason\": 18, \"episode_title\": \"\\\"Hell's Kitchen\\\"\", \"episode_director\": \"Simon Mirren\", \"episode_writer\": \"Erica Messer\", \"episode_airdate\": \"2017-03-29\", \"Prod.code\": 1218, \"U.S. viewers(millions)\": \"6.88[270]\"}, {\"No.overall\": 274, \"No. inseason\": 19, \"episode_title\": \"\\\"True North\\\"\", \"episode_director\": \"Joe Mantegna\", \"episode_writer\": \"Bruce Zimmerman\", \"episode_airdate\": \"2017-04-05\", \"Prod.code\": 1219, \"U.S. viewers(millions)\": \"7.04[271]\"}, {\"No.overall\": 275, \"No. inseason\": 20, \"episode_title\": \"\\\"Unforgettable\\\"\", \"episode_director\": \"Carlos Bernard\", \"episode_writer\": \"Stephanie SenGupta\", \"episode_airdate\": \"2017-04-26\", \"Prod.code\": 1220, \"U.S. viewers(millions)\": \"6.91[272]\"}, {\"No.overall\": 276, \"No. inseason\": 21, \"episode_title\": \"\\\"Green Light\\\"\", \"episode_director\": \"Alec Smight\", \"episode_writer\": \"Erik Stiller\", \"episode_airdate\": \"2017-05-03\", \"Prod.code\": 1221, \"U.S. viewers(millions)\": \"7.37[273]\"}, {\"No.overall\": 277, \"No. inseason\": 22, \"episode_title\": \"\\\"Red Light\\\"\", \"episode_director\": \"Glenn Kershaw\", \"episode_writer\": \"Breen Frazier\", \"episode_airdate\": \"2017-05-10\", \"Prod.code\": 1222, \"U.S. viewers(millions)\": \"8.12[274]\"}, {\"No.overall\": 278, \"No. inseason\": 1, \"episode_title\": \"\\\"Wheels Up\\\"\", \"episode_director\": \"Glenn Kershaw\", \"episode_writer\": \"Breen Frazier\", \"episode_airdate\": \"2017-09-27\", \"Prod.code\": 1301, \"U.S. viewers(millions)\": \"7.00[275]\"}, {\"No.overall\": 279, \"No. inseason\": 2, \"episode_title\": \"\\\"To A Better Place\\\"\", \"episode_director\": \"Diana C. Valentine\", \"episode_writer\": \"Bruce Zimmerman\", \"episode_airdate\": \"2017-10-04\", \"Prod.code\": 1302, \"U.S. viewers(millions)\": \"6.17[276]\"}, {\"No.overall\": 280, \"No. inseason\": 3, \"episode_title\": \"\\\"Blue Angel\\\"\", \"episode_director\": \"Sharat Raju\", \"episode_writer\": \"Christopher Barbour\", \"episode_airdate\": \"2017-10-11\", \"Prod.code\": 1304, \"U.S. viewers(millions)\": \"5.87[277]\"}, {\"No.overall\": 281, \"No. inseason\": 4, \"episode_title\": \"\\\"Killer App\\\"\", \"episode_director\": \"Alec Smight\", \"episode_writer\": \"Stephanie SenGupta\", \"episode_airdate\": \"2017-10-18\", \"Prod.code\": 1303, \"U.S. viewers(millions)\": \"5.94[278]\"}, {\"No.overall\": 282, \"No. inseason\": 5, \"episode_title\": \"\\\"Lucky Strikes\\\"\", \"episode_director\": \"Tawnia McKiernan\", \"episode_writer\": \"Jim Clemente\", \"episode_airdate\": \"2017-10-25\", \"Prod.code\": 1306, \"U.S. viewers(millions)\": \"5.91[279]\"}, {\"No.overall\": 283, \"No. inseason\": 6, \"episode_title\": \"\\\"The Bunker\\\"\", \"episode_director\": \"Aisha Tyler\", \"episode_writer\": \"Karen Maser\", \"episode_airdate\": \"2017-11-08\", \"Prod.code\": 1305, \"U.S. viewers(millions)\": \"5.50[280]\"}, {\"No.overall\": 284, \"No. inseason\": 7, \"episode_title\": \"\\\"Dust and Bones\\\"\", \"episode_director\": \"Marcus Stokes\", \"episode_writer\": \"Erica Meredith\", \"episode_airdate\": \"2017-11-15\", \"Prod.code\": 1307, \"U.S. viewers(millions)\": \"5.64[281]\"}, {\"No.overall\": 285, \"No. inseason\": 8, \"episode_title\": \"\\\"Neon Terror\\\"\", \"episode_director\": \"Bethany Rooney\", \"episode_writer\": \"Erik Stiller\", \"episode_airdate\": \"2017-11-22\", \"Prod.code\": 1308, \"U.S. viewers(millions)\": \"6.31[282]\"}, {\"No.overall\": 286, \"No. inseason\": 9, \"episode_title\": \"\\\"False Flag\\\"\", \"episode_director\": \"Joe Mantegna\", \"episode_writer\": \"Breen Frazier\", \"episode_airdate\": \"2017-12-06\", \"Prod.code\": 1309, \"U.S. viewers(millions)\": \"5.34[283]\"}, {\"No.overall\": 287, \"No. inseason\": 10, \"episode_title\": \"\\\"Submerged\\\"\", \"episode_director\": \"Rob Bailey\", \"episode_writer\": \"Bruce Zimmerman\", \"episode_airdate\": \"2018-01-03\", \"Prod.code\": 1310, \"U.S. viewers(millions)\": \"5.41[284]\"}, {\"No.overall\": 288, \"No. inseason\": 11, \"episode_title\": \"\\\"Full-Tilt Boogie\\\"\", \"episode_director\": \"Simon Mirren\", \"episode_writer\": \"Erica Messer & Kirsten Vangsness\", \"episode_airdate\": \"2018-01-10\", \"Prod.code\": 1311, \"U.S. viewers(millions)\": \"5.70[285]\"}, {\"No.overall\": 289, \"No. inseason\": 12, \"episode_title\": \"\\\"Bad Moon on the Rise\\\"\", \"episode_director\": \"Christoph Schrewe\", \"episode_writer\": \"Karen Maser\", \"episode_airdate\": \"2018-01-17\", \"Prod.code\": 1312, \"U.S. viewers(millions)\": \"5.63[286]\"}, {\"No.overall\": 290, \"No. inseason\": 13, \"episode_title\": \"\\\"Cure\\\"\", \"episode_director\": \"Glenn Kershaw\", \"episode_writer\": \"Christopher Barbour\", \"episode_airdate\": \"2018-01-24\", \"Prod.code\": 1313, \"U.S. viewers(millions)\": \"5.30[287]\"}, {\"No.overall\": 291, \"No. inseason\": 14, \"episode_title\": \"\\\"Miasma\\\"\", \"episode_director\": \"Leon Ichaso\", \"episode_writer\": \"Erica Meredith\", \"episode_airdate\": \"2018-01-31\", \"Prod.code\": 1314, \"U.S. viewers(millions)\": \"5.42[288]\"}, {\"No.overall\": 292, \"No. inseason\": 15, \"episode_title\": \"\\\"Annihilator\\\"\", \"episode_director\": \"Rob Bailey\", \"episode_writer\": \"Erik Stiller\", \"episode_airdate\": \"2018-03-07\", \"Prod.code\": 1315, \"U.S. viewers(millions)\": \"5.04[289]\"}, {\"No.overall\": 293, \"No. inseason\": 16, \"episode_title\": \"\\\"Last Gasp\\\"\", \"episode_director\": \"Adam Rodriguez\", \"episode_writer\": \"Stephanie SenGupta\", \"episode_airdate\": \"2018-03-14\", \"Prod.code\": 1316, \"U.S. viewers(millions)\": \"5.69[290]\"}, {\"No.overall\": 294, \"No. inseason\": 17, \"episode_title\": \"\\\"The Capilanos\\\"\", \"episode_director\": \"Matthew Gray Gubler\", \"episode_writer\": \"Erica Messer\", \"episode_airdate\": \"2018-03-21\", \"Prod.code\": 1317, \"U.S. viewers(millions)\": \"5.26[291]\"}, {\"No.overall\": 295, \"No. inseason\": 18, \"episode_title\": \"\\\"The Dance of Love\\\"\", \"episode_director\": \"Joe Mantegna\", \"episode_writer\": \"Bruce Zimmerman\", \"episode_airdate\": \"2018-03-28\", \"Prod.code\": 1318, \"U.S. viewers(millions)\": \"6.59[292]\"}, {\"No.overall\": 296, \"No. inseason\": 19, \"episode_title\": \"\\\"Ex Parte\\\"\", \"episode_director\": \"Lily Mariye\", \"episode_writer\": \"Christopher Barbour\", \"episode_airdate\": \"2018-04-04\", \"Prod.code\": 1319, \"U.S. viewers(millions)\": \"5.90[293]\"}, {\"No.overall\": 297, \"No. inseason\": 20, \"episode_title\": \"\\\"All You Can Eat\\\"\", \"episode_director\": \"Diana C. Valentine\", \"episode_writer\": \"Karen Maser\", \"episode_airdate\": \"2018-04-11\", \"Prod.code\": 1320, \"U.S. viewers(millions)\": \"5.20[294]\"}, {\"No.overall\": 298, \"No. inseason\": 21, \"episode_title\": \"\\\"Mixed Signals\\\"\", \"episode_director\": \"Alec Smight\", \"episode_writer\": \"Erica Meredith & Erik Stiller\", \"episode_airdate\": \"2018-04-18\", \"Prod.code\": 1321, \"U.S. viewers(millions)\": \"5.92[295]\"}, {\"No.overall\": 299, \"No. inseason\": 22, \"episode_title\": \"\\\"Believer\\\"\", \"episode_director\": \"Glenn Kershaw\", \"episode_writer\": \"Breen Frazier\", \"episode_airdate\": \"2018-04-18\", \"Prod.code\": 1322, \"U.S. viewers(millions)\": \"5.39[295]\"}, {\"No.overall\": 300, \"No. inseason\": 1, \"episode_title\": \"\\\"300\\\"\", \"episode_director\": \"Glenn Kershaw\", \"episode_writer\": \"Erica Messer\", \"episode_airdate\": \"2018-10-03\", \"Prod.code\": 1401, \"U.S. viewers(millions)\": \"4.45[296]\"}, {\"No.overall\": 301, \"No. inseason\": 2, \"episode_title\": \"\\\"Starter Home\\\"\", \"episode_director\": \"Diana C. Valentine\", \"episode_writer\": \"Bruce Zimmerman\", \"episode_airdate\": \"2018-10-10\", \"Prod.code\": 1402, \"U.S. viewers(millions)\": \"4.65[297]\"}, {\"No.overall\": 302, \"No. inseason\": 3, \"episode_title\": \"\\\"Rule 34\\\"\", \"episode_director\": \"Alec Smight\", \"episode_writer\": \"Christopher Barbour\", \"episode_airdate\": \"2018-10-17\", \"Prod.code\": 1403, \"U.S. viewers(millions)\": \"4.42[298]\"}, {\"No.overall\": 303, \"No. inseason\": 4, \"episode_title\": \"\\\"Innocence\\\"\", \"episode_director\": \"Lily Mariye\", \"episode_writer\": \"Stephanie Sengupta\", \"episode_airdate\": \"2018-10-24\", \"Prod.code\": 1405, \"U.S. viewers(millions)\": \"4.29[299]\"}, {\"No.overall\": 304, \"No. inseason\": 5, \"episode_title\": \"\\\"The Tall Man\\\"\", \"episode_director\": \"Matthew Gray Gubler\", \"episode_writer\": \"Breen Frazier\", \"episode_airdate\": \"2018-10-31\", \"Prod.code\": 1404, \"U.S. viewers(millions)\": \"4.41[300]\"}, {\"No.overall\": 305, \"No. inseason\": 6, \"episode_title\": \"\\\"Luke\\\"\", \"episode_director\": \"Joe Mantegna\", \"episode_writer\": \"Erik Stiller\", \"episode_airdate\": \"2018-11-07\", \"Prod.code\": 1406, \"U.S. viewers(millions)\": \"4.56[301]\"}, {\"No.overall\": 306, \"No. inseason\": 7, \"episode_title\": \"\\\"Twenty Seven\\\"\", \"episode_director\": \"Sharat Raju\", \"episode_writer\": \"Erica Meredith\", \"episode_airdate\": \"2018-11-14\", \"Prod.code\": 1407, \"U.S. viewers(millions)\": \"4.52[302]\"}, {\"No.overall\": 307, \"No. inseason\": 8, \"episode_title\": \"\\\"Ashley\\\"\", \"episode_director\": \"Adam Rodriguez\", \"episode_writer\": \"Stephanie Birkitt\", \"episode_airdate\": \"2018-11-21\", \"Prod.code\": 1408, \"U.S. viewers(millions)\": \"5.50[303]\"}, {\"No.overall\": 308, \"No. inseason\": 9, \"episode_title\": \"\\\"Broken Wing\\\"\", \"episode_director\": \"Aisha Tyler\", \"episode_writer\": \"Jim Clemente\", \"episode_airdate\": \"2018-12-05\", \"Prod.code\": 1409, \"U.S. viewers(millions)\": \"4.50[304]\"}, {\"No.overall\": 309, \"No. inseason\": 10, \"episode_title\": \"\\\"Flesh and Blood\\\"\", \"episode_director\": \"Glenn Kershaw\", \"episode_writer\": \"Christopher Barbour\", \"episode_airdate\": \"2018-12-12\", \"Prod.code\": 1410, \"U.S. viewers(millions)\": \"5.43[305]\"}, {\"No.overall\": 310, \"No. inseason\": 11, \"episode_title\": \"\\\"Night Lights\\\"\", \"episode_director\": \"Nelson McCormick\", \"episode_writer\": \"Heather N\\u00f6el Aldridge\", \"episode_airdate\": \"2019-01-02\", \"Prod.code\": 1411, \"U.S. viewers(millions)\": \"4.92[306]\"}, {\"No.overall\": 311, \"No. inseason\": 12, \"episode_title\": \"\\\"Hamelin\\\"\", \"episode_director\": \"Simon Mirren\", \"episode_writer\": \"Bruce Zimmerman\", \"episode_airdate\": \"2019-01-09\", \"Prod.code\": 1412, \"U.S. viewers(millions)\": \"4.55[307]\"}, {\"No.overall\": 312, \"No. inseason\": 13, \"episode_title\": \"\\\"Chameleon\\\"\", \"episode_director\": \"A.J. Cook\", \"episode_writer\": \"Charles Dewey & Breen Frazier\", \"episode_airdate\": \"2019-01-23\", \"Prod.code\": 1413, \"U.S. viewers(millions)\": \"4.45[308]\"}, {\"No.overall\": 313, \"No. inseason\": 14, \"episode_title\": \"\\\"Sick and Evil\\\"\", \"episode_director\": \"Rob Bailey\", \"episode_writer\": \"Erik Stiller\", \"episode_airdate\": \"2019-01-30\", \"Prod.code\": 1414, \"U.S. viewers(millions)\": \"4.73[309]\"}, {\"No.overall\": 314, \"No. inseason\": 15, \"episode_title\": \"\\\"Truth or Dare\\\"\", \"episode_director\": \"Glenn Kershaw\", \"episode_writer\": \"Erica Meredith\", \"episode_airdate\": \"2019-02-06\", \"Prod.code\": 1415, \"U.S. viewers(millions)\": \"4.72[310]\"}, {\"No.overall\": 315, \"No. inseason\": 1, \"episode_title\": \"\\\"Under the Skin\\\"\", \"episode_director\": \"Nelson McCormick\", \"episode_writer\": \"Christopher Barbour\", \"episode_airdate\": \"2020-01-08\", \"Prod.code\": 1416, \"U.S. viewers(millions)\": \"4.82[311]\"}, {\"No.overall\": 316, \"No. inseason\": 2, \"episode_title\": \"\\\"Awakenings\\\"\", \"episode_director\": \"Alec Smight\", \"episode_writer\": \"Stephanie Sengupta\", \"episode_airdate\": \"2020-01-08\", \"Prod.code\": 1417, \"U.S. viewers(millions)\": \"4.49[311]\"}, {\"No.overall\": 317, \"No. inseason\": 3, \"episode_title\": \"\\\"Spectator Slowing\\\"\", \"episode_director\": \"Kevin Berlandi\", \"episode_writer\": \"Bruce Zimmerman\", \"episode_airdate\": \"2020-01-15\", \"Prod.code\": 1418, \"U.S. viewers(millions)\": \"4.58[312]\"}, {\"No.overall\": 318, \"No. inseason\": 4, \"episode_title\": \"\\\"Saturday\\\"\", \"episode_director\": \"Edward Allen Bernero\", \"episode_writer\": \"Stephanie Birkitt & Breen Frazier\", \"episode_airdate\": \"2020-01-22\", \"Prod.code\": 1419, \"U.S. viewers(millions)\": \"4.49[313]\"}, {\"No.overall\": 319, \"No. inseason\": 5, \"episode_title\": \"\\\"Ghost\\\"\", \"episode_director\": \"Diana Valentine\", \"episode_writer\": \"Bobby Chacon & Jim Clemente\", \"episode_airdate\": \"2020-01-29\", \"Prod.code\": 1421, \"U.S. viewers(millions)\": \"5.88[314]\"}, {\"No.overall\": 320, \"No. inseason\": 6, \"episode_title\": \"\\\"Date Night\\\"\", \"episode_director\": \"Marcus Stokes\", \"episode_writer\": \"Breen Frazier\", \"episode_airdate\": \"2020-02-05\", \"Prod.code\": 1420, \"U.S. viewers(millions)\": \"4.35[315]\"}, {\"No.overall\": 321, \"No. inseason\": 7, \"episode_title\": \"\\\"Rusty\\\"\", \"episode_director\": \"Rachel Feldman\", \"episode_writer\": \"Erica Meredith & Erik Stiller\", \"episode_airdate\": \"2020-02-05\", \"Prod.code\": 1422, \"U.S. viewers(millions)\": \"3.74[315]\"}, {\"No.overall\": 322, \"No. inseason\": 8, \"episode_title\": \"\\\"Family Tree\\\"\", \"episode_director\": \"Alec Smight\", \"episode_writer\": \"Bruce Zimmerman\", \"episode_airdate\": \"2020-02-12\", \"Prod.code\": 1423, \"U.S. viewers(millions)\": \"3.94[316]\"}, {\"No.overall\": 323, \"No. inseason\": 9, \"episode_title\": \"\\\"Face Off\\\"\", \"episode_director\": \"Sharat Raju\", \"episode_writer\": \"Christopher Barbour\", \"episode_airdate\": \"2020-02-19\", \"Prod.code\": 1424, \"U.S. viewers(millions)\": \"5.46[317]\"}, {\"No.overall\": 324, \"No. inseason\": 10, \"episode_title\": \"\\\"And in the End\\\"\", \"episode_director\": \"Glenn Kershaw\", \"episode_writer\": \"Erica Messer & Kirsten Vangsness\", \"episode_airdate\": \"2020-02-19\", \"Prod.code\": 1425, \"U.S. viewers(millions)\": \"5.36[317]\"}]}}, {\"mode\": \"vega-lite\"});\n",
              "</script>"
            ],
            "text/plain": [
              "alt.Chart(...)"
            ]
          },
          "metadata": {},
          "execution_count": 102
        }
      ]
    },
    {
      "cell_type": "code",
      "source": [
        "%store cm_wiki_df"
      ],
      "metadata": {
        "colab": {
          "base_uri": "https://localhost:8080/"
        },
        "id": "bJi6FI60nhrJ",
        "outputId": "ccd2ccdd-0df1-49f9-bed5-70631c844f8b"
      },
      "execution_count": 79,
      "outputs": [
        {
          "output_type": "stream",
          "name": "stdout",
          "text": [
            "Stored 'cm_wiki_df' (DataFrame)\n"
          ]
        }
      ]
    },
    {
      "cell_type": "code",
      "source": [
        "#Report:\n",
        "\n",
        "'''The goal of this project was to scrape data on the TV show Criminal Minds from Wikipedia, clean and transform the data, and create a simple visualization using Altair.\n",
        "\n",
        "The first step was to import the necessary libraries, including requests, BeautifulSoup, pandas, and Altair. The warnings library was also imported to suppress any warnings that might be generated during the execution of the code.\n",
        "\n",
        "Next, the code used the requests library to retrieve the HTML content of the Criminal Minds page on Wikipedia. The BeautifulSoup library was used to parse the HTML content and extract the tabular data from the page. The pd.read_html() method was used to read in the tabular data, which was stored as a list of dataframes.\n",
        "\n",
        "The code then iterated through the list of dataframes to extract the relevant data for each season of the show. The data was combined into a single dataframe using the pd.concat() method.\n",
        "\n",
        "The resulting dataframe was then cleaned and transformed. The column names were renamed to be more descriptive, and the episode_airdate column was converted to a datetime format.\n",
        "\n",
        "Finally, the code used Altair to create a simple bar chart showing the total number of episodes per season. The chart was displayed using the show() method.\n",
        "\n",
        "Overall, the code successfully scraped data from Wikipedia, cleaned and transformed the data, and created a simple visualization using Altair. The resulting report provides a clear summary of the code and its purpose, as well as a description of the steps involved in executing the code.\n",
        "'''"
      ],
      "metadata": {
        "id": "TVGVYgehu9u8"
      },
      "execution_count": null,
      "outputs": []
    }
  ]
}